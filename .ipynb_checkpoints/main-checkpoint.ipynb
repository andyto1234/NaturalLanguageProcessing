{
 "cells": [
  {
   "cell_type": "code",
   "execution_count": 8,
   "id": "regular-reggae",
   "metadata": {},
   "outputs": [
    {
     "name": "stdout",
     "output_type": "stream",
     "text": [
      "{'<OOV>': 1, 'my': 2, 'love': 3, 'dog': 4, 'i': 5, 'you': 6, 'cat': 7, 'do': 8, 'think': 9, 'is': 10, 'amazing': 11}\n"
     ]
    }
   ],
   "source": [
    "from tensorflow.keras.preprocessing.text import Tokenizer\n",
    "sentences = [\n",
    "    'i love my dog',\n",
    "    'I, love my cat',\n",
    "    'You love my dog!',\n",
    "    'Do you think my dog is amazing?'\n",
    "]\n",
    "\n",
    "tokenizer = Tokenizer(num_words = 100, oov_token=\"<OOV>\")\n",
    "tokenizer.fit_on_texts(sentences)\n",
    "word_index = tokenizer.word_index\n",
    "print(word_index)"
   ]
  },
  {
   "cell_type": "code",
   "execution_count": 9,
   "id": "operating-yeast",
   "metadata": {},
   "outputs": [
    {
     "name": "stdout",
     "output_type": "stream",
     "text": [
      "[[5, 3, 2, 4], [5, 3, 2, 7], [6, 3, 2, 4], [8, 6, 9, 2, 4, 10, 11]]\n"
     ]
    }
   ],
   "source": [
    "sequence = tokenizer.texts_to_sequences(sentences)\n",
    "print(sequence)"
   ]
  },
  {
   "cell_type": "code",
   "execution_count": 10,
   "id": "failing-future",
   "metadata": {},
   "outputs": [],
   "source": [
    "import textstat"
   ]
  },
  {
   "cell_type": "code",
   "execution_count": 11,
   "id": "patent-color",
   "metadata": {},
   "outputs": [
    {
     "data": {
      "text/plain": [
       "41.63"
      ]
     },
     "execution_count": 11,
     "metadata": {},
     "output_type": "execute_result"
    }
   ],
   "source": [
    "test_data = (\"NICOLA STURGEON is poised for five more years as the first minister of Scotland. By the evening of May 8th—two days after polling—her Scottish National Party was declared the biggest party in the Edinburgh parliament, falling just one seat short of a majority. Tactical voting by anti-independence voters, switching their ballots between Scotland’s Conservative and Labour parties, helped to thwart her. Still, it is a solid victory for the SNP, which has been in power under Ms Sturgeon and her predecessor, Alex Salmond, since 2007.Nationalists had hoped the election would be the first step towards the speedy dissolution of the United Kingdom. The SNP promised in its manifesto a second referendum on Scottish independence before the end of 2023. But a long and gruelling stalemate is more likely.Ms Sturgeon insists that the election result is a mandate for a referendum. The combined votes of the SNP and the Scottish Green Party, which also backs independence, are sufficient to pass a referendum law. The Scottish Conservatives declared that by failing to secure a majority on its own the SNP had failed to clear the bar for a referendum. Polls suggest only around a third of Scots agree with Ms Sturgeon, and many are undecided.Yet whether the Scottish Parliament, whatever its composition, has a political or legal right to organise a referendum is a matter of dispute. The Scotland Act, which underpins devolution, stipulates that the 314-year-old union of England and Scotland is the exclusive preserve of Westminster. The British government says that precludes a referendum without its authority—which David Cameron, then prime minister, granted for a vote in 2014, when Scots plumped by a margin of more than ten points to stay in the union. Ms Sturgeon hopes Boris Johnson will do the same, in order to put a second referendum beyond legal doubt. A refusal, she says, would be a defiance of the will of the Scottish people and in itself an argument for independence.But Mr Johnson has made it clear that he will refuse. Before the election results were known he told the Daily Telegraph that a referendum would be “irresponsible and reckless” while the economy and public services are recovering from covid-19. Mr Johnson has little incentive to authorise a poll. He certainly faces no pressure to hold one from within his own ranks (still officially the Conservative and Unionist Party) or from English voters.Mr Johnson has previously suggested that no referendum should take place for decades, but has recently adopted a softer, “not now”, approach, which seeks to deflate rather than confront separatism. On May 8th he invited Ms Sturgeon and Mark Drakeford, the re-elected first minister of Wales, to approach the “difficult journey” of recovery in a “spirit of unity and co-operation”. At the same time, the British government has little appetite for granting Scotland more powers; instead, Mr Johnson plans to relocate more civil servants there and to allocate more funding for Scottish infrastructure directly from London.Ms Sturgeon is opposed to “illegal, wildcat” referendums, such as that held in Catalonia in October 2017. A poll that was unrecognised by Britain and the EU, which an independent Scotland would hope to join, could be a dead-end for the nationalist cause. It would risk alienating undecided Scots, whom Ms Sturgeon has spent years trying to win over. She will, however, seek to jolt Mr Johnson’s hand, and test the limits of the Scottish Parliament’s powers, by daring the British government to block a referendum law in the Supreme Court in London. Any challenge would probably revolve around the question of whether the Scottish Parliament may legislate for an advisory referendum that did not automatically trigger independence. (Britain’s Brexit referendum of 2016 was in principle advisory. It had no automatic legal effects, even if its political impact was all too plain.)The Supreme Court has routinely heard cases about the remits of the devolved parliaments since they were founded two decades ago, often on relatively technical questions such as tobacco sales and insurance rules. But it is increasingly serving as a forum for confrontation between Ms Sturgeon and the British government. In April the British government said it would ask the court to review legislation passed in Edinburgh that would entrench in Scottish law the UN convention on children’s rights and a European charter on the rights of local government. The British government described the challenge as a purely legal question; Ms Sturgeon called it “morally repugnant”. Even if the nationalists lose, cases can provide them with handy propaganda: they can claim that their parliament is impotent. A challenge over a referendum bill will thrust judges into much more uncomfortable political terrain.Since no referendum is likely soon, the question is whether during the stalemate support for separation solidifies or peters away. Eve Hepburn, co-editor of “Scotland’s New Choice”, a new study on independence, argues that if the British government takes an “aggressive or dismissive” approach, reminiscent of Spain’s rejection of Catalan separatism, it will risk fuelling support for it.But Mr Johnson’s “not now” strategy has some hope of working. Polls suggest roughly half of Scots favour independence in principle, but only 30% want a referendum within two years as Ms Sturgeon proposes. The Daily Record, a left-wing tabloid, in an editorial on polling day, offered a typical view, arguing that a referendum should take place if the SNP triumphed, but only “at some point towards the end” of the parliament’s five-year term. Even the SNP’s campaign emphasised Ms Sturgeon’s stable leadership in the pandemic and an expansive welfare programme, more than the promise of a referendum. Scotland’s debate often echoes St Augustine: Lord make me independent, but not yet.Mr Johnson has one overwhelming reason to hold firm against a referendum until after the next general election, expected in 2023 or 2024. In elections in 2015 and 2019, his party told voters in England, with some success, that the alternative to a Conservative government in Westminster was an unstable coalition between a weak English Labour Party and a rickety SNP. His party has repeatedly described Sir Keir Starmer, the Labour leader, as too soft on separatism to halt a referendum. The SNP’s enduring performance is in the long harmful for the union, but pretty helpful to the Tories: just weak enough to resist, but strong enough to claim the union is in peril with any other prime minister.\")\n",
    "test_data = \"NICOLA STURGEON is poised for five more years as the first minister of Scotland. By the evening of May 8th—two days after polling—her Scottish National Party was declared the biggest party in the Edinburgh parliament, falling just one seat short of a majority. Tactical voting by anti-independence voters, switching their ballots between Scotland’s Conservative and Labour parties, helped to thwart her. Still, it is a solid victory for the SNP, which has been in power under Ms Sturgeon and her predecessor, Alex Salmond, since 2007.Nationalists had hoped the election would be the first step towards the speedy dissolution of the United Kingdom. The SNP promised in its manifesto a second referendum on Scottish independence before the end of 2023. But a long and gruelling stalemate is more likely.Ms Sturgeon insists that the election result is a mandate for a referendum. The combined votes of the SNP and the Scottish Green Party, which also backs independence, are sufficient to pass a referendum law. The Scottish Conservatives declared that by failing to secure a majority on its own the SNP had failed to clear the bar for a referendum. Polls suggest only around a third of Scots agree with Ms Sturgeon, and many are undecided.Yet whether the Scottish Parliament, whatever its composition, has a political or legal right to organise a referendum is a matter of dispute. The Scotland Act, which underpins devolution, stipulates that the 314-year-old union of England and Scotland is the exclusive preserve of Westminster. The British government says that precludes a referendum without its authority—which David Cameron, then prime minister, granted for a vote in 2014, when Scots plumped by a margin of more than ten points to stay in the union. Ms Sturgeon hopes Boris Johnson will do the same, in order to put a second referendum beyond legal doubt. A refusal, she says, would be a defiance of the will of the Scottish people and in itself an argument for independence.But Mr Johnson has made it clear that he will refuse. Before the election results were known he told the Daily Telegraph that a referendum would be “irresponsible and reckless” while the economy and public services are recovering from covid-19. Mr Johnson has little incentive to authorise a poll. He certainly faces no pressure to hold one from within his own ranks (still officially the Conservative and Unionist Party) or from English voters.Mr Johnson has previously suggested that no referendum should take place for decades, but has recently adopted a softer, “not now”, approach, which seeks to deflate rather than confront separatism. On May 8th he invited Ms Sturgeon and Mark Drakeford, the re-elected first minister of Wales, to approach the “difficult journey” of recovery in a “spirit of unity and co-operation”. At the same time, the British government has little appetite for granting Scotland more powers; instead, Mr Johnson plans to relocate more civil servants there and to allocate more funding for Scottish infrastructure directly from London.Ms Sturgeon is opposed to “illegal, wildcat” referendums, such as that held in Catalonia in October 2017. A poll that was unrecognised by Britain and the EU, which an independent Scotland would hope to join, could be a dead-end for the nationalist cause. It would risk alienating undecided Scots, whom Ms Sturgeon has spent years trying to win over. She will, however, seek to jolt Mr Johnson’s hand, and test the limits of the Scottish Parliament’s powers, by daring the British government to block a referendum law in the Supreme Court in London. Any challenge would probably revolve around the question of whether the Scottish Parliament may legislate for an advisory referendum that did not automatically trigger independence. (Britain’s Brexit referendum of 2016 was in principle advisory. It had no automatic legal effects, even if its political impact was all too plain.)The Supreme Court has routinely heard cases about the remits of the devolved parliaments since they were founded two decades ago, often on relatively technical questions such as tobacco sales and insurance rules. But it is increasingly serving as a forum for confrontation between Ms Sturgeon and the British government. In April the British government said it would ask the court to review legislation passed in Edinburgh that would entrench in Scottish law the UN convention on children’s rights and a European charter on the rights of local government. The British government described the challenge as a purely legal question; Ms Sturgeon called it “morally repugnant”. Even if the nationalists lose, cases can provide them with handy propaganda: they can claim that their parliament is impotent. A challenge over a referendum bill will thrust judges into much more uncomfortable political terrain.Since no referendum is likely soon, the question is whether during the stalemate support for separation solidifies or peters away. Eve Hepburn, co-editor of “Scotland’s New Choice”, a new study on independence, argues that if the British government takes an “aggressive or dismissive” approach, reminiscent of Spain’s rejection of Catalan separatism, it will risk fuelling support for it.But Mr Johnson’s “not now” strategy has some hope of working. Polls suggest roughly half of Scots favour independence in principle, but only 30% want a referendum within two years as Ms Sturgeon proposes. The Daily Record, a left-wing tabloid, in an editorial on polling day, offered a typical view, arguing that a referendum should take place if the SNP triumphed, but only “at some point towards the end” of the parliament’s five-year term. Even the SNP’s campaign emphasised Ms Sturgeon’s stable leadership in the pandemic and an expansive welfare programme, more than the promise of a referendum. Scotland’s debate often echoes St Augustine: Lord make me independent, but not yet.Mr Johnson has one overwhelming reason to hold firm against a referendum until after the next general election, expected in 2023 or 2024. In elections in 2015 and 2019, his party told voters in England, with some success, that the alternative to a Conservative government in Westminster was an unstable coalition between a weak English Labour Party and a rickety SNP. His party has repeatedly described Sir Keir Starmer, the Labour leader, as too soft on separatism to halt a referendum. The SNP’s enduring performance is in the long harmful for the union, but pretty helpful to the Tories: just weak enough to resist, but strong enough to claim the union is in peril with any other prime minister.\"\n",
    "\n",
    "textstat.flesch_reading_ease(test_data)\n"
   ]
  },
  {
   "cell_type": "code",
   "execution_count": 12,
   "id": "experienced-option",
   "metadata": {},
   "outputs": [
    {
     "data": {
      "text/plain": [
       "17.9"
      ]
     },
     "execution_count": 12,
     "metadata": {},
     "output_type": "execute_result"
    }
   ],
   "source": [
    "textstat.automated_readability_index(test_data)"
   ]
  },
  {
   "cell_type": "code",
   "execution_count": 15,
   "id": "alike-certification",
   "metadata": {},
   "outputs": [],
   "source": [
    "josh_fight = (\"Hundreds of people have gathered in a US park, armed with pool noodles, to take part in a friendly battle over the right to use the name Josh.Last April, Arizona student Josh Swain, 22, jokingly messaged dozens of people who shared his name, and challenged them to a fight.It quickly went viral online.A year later, dozens of people called Josh arrived in Lincoln, Nebraska, to battle for the popular name.The event began with 'an epic contest of rock, paper, scissors' between organiser Josh Swain and another Josh Swain from Omaha, said Yousef Nasser, a reporter with local broadcaster KLKN, who filmed the battle. The Arizona Josh won the contest.'The subsequent pool noodle fight was open to anyone with the first name Josh. Dozens of Joshes - some wearing Spider-Man costumes and others in Jedi robes - tried to hit one another with the noodles, as a large crowd of cheering supporters looked on.In the end, four-year-old Josh Vinson Jr, nicknamed Little Josh, was crowned the winner. He received a Burger King crown, a champion's belt and a small trophy.The event also sparked a charity fundraising drive, which raised over $8000 (£5,800) for a local children's hospital, Mr Nasser added.The idea for the event began in April 2020 when Mr Swain, in a spell of pandemic boredom, started a group message with as many people he could find on Facebook who shared his first and last name. The college student challenged the doppelgangers to a duel for the right to be known as Josh Swain, on 24 April 2021.Mr Swain said he was surprised at how big the event turned out.\")\n",
    "\n"
   ]
  },
  {
   "cell_type": "code",
   "execution_count": 16,
   "id": "renewable-discount",
   "metadata": {},
   "outputs": [
    {
     "data": {
      "text/plain": [
       "33.99"
      ]
     },
     "execution_count": 16,
     "metadata": {},
     "output_type": "execute_result"
    }
   ],
   "source": [
    "textstat.flesch_reading_ease(josh_fight)\n"
   ]
  },
  {
   "cell_type": "code",
   "execution_count": 17,
   "id": "aging-raleigh",
   "metadata": {},
   "outputs": [
    {
     "data": {
      "text/plain": [
       "28.2"
      ]
     },
     "execution_count": 17,
     "metadata": {},
     "output_type": "execute_result"
    }
   ],
   "source": [
    "textstat.automated_readability_index(josh_fight)"
   ]
  },
  {
   "cell_type": "code",
   "execution_count": 18,
   "id": "supreme-connection",
   "metadata": {},
   "outputs": [],
   "source": [
    "import nltk"
   ]
  },
  {
   "cell_type": "code",
   "execution_count": 19,
   "id": "approved-typing",
   "metadata": {},
   "outputs": [
    {
     "ename": "LookupError",
     "evalue": "\n**********************************************************************\n  Resource \u001b[93mpunkt\u001b[0m not found.\n  Please use the NLTK Downloader to obtain the resource:\n\n  \u001b[31m>>> import nltk\n  >>> nltk.download('punkt')\n  \u001b[0m\n  For more information see: https://www.nltk.org/data.html\n\n  Attempted to load \u001b[93mtokenizers/punkt/PY3/english.pickle\u001b[0m\n\n  Searched in:\n    - '/Users/ato/nltk_data'\n    - '/Users/ato/anaconda3/nltk_data'\n    - '/Users/ato/anaconda3/share/nltk_data'\n    - '/Users/ato/anaconda3/lib/nltk_data'\n    - '/usr/share/nltk_data'\n    - '/usr/local/share/nltk_data'\n    - '/usr/lib/nltk_data'\n    - '/usr/local/lib/nltk_data'\n    - ''\n**********************************************************************\n",
     "output_type": "error",
     "traceback": [
      "\u001b[0;31m-----------------------------------------------------------------\u001b[0m",
      "\u001b[0;31mLookupError\u001b[0m                     Traceback (most recent call last)",
      "\u001b[0;32m<ipython-input-19-81750b9f183f>\u001b[0m in \u001b[0;36m<module>\u001b[0;34m\u001b[0m\n\u001b[0;32m----> 1\u001b[0;31m \u001b[0mtokens\u001b[0m \u001b[0;34m=\u001b[0m \u001b[0mnltk\u001b[0m\u001b[0;34m.\u001b[0m\u001b[0mword_tokenize\u001b[0m\u001b[0;34m(\u001b[0m\u001b[0mtest_data\u001b[0m\u001b[0;34m)\u001b[0m\u001b[0;34m\u001b[0m\u001b[0;34m\u001b[0m\u001b[0m\n\u001b[0m",
      "\u001b[0;32m~/anaconda3/lib/python3.7/site-packages/nltk/tokenize/__init__.py\u001b[0m in \u001b[0;36mword_tokenize\u001b[0;34m(text, language, preserve_line)\u001b[0m\n\u001b[1;32m    128\u001b[0m     \u001b[0;34m:\u001b[0m\u001b[0mtype\u001b[0m \u001b[0mpreserve_line\u001b[0m\u001b[0;34m:\u001b[0m \u001b[0mbool\u001b[0m\u001b[0;34m\u001b[0m\u001b[0;34m\u001b[0m\u001b[0m\n\u001b[1;32m    129\u001b[0m     \"\"\"\n\u001b[0;32m--> 130\u001b[0;31m     \u001b[0msentences\u001b[0m \u001b[0;34m=\u001b[0m \u001b[0;34m[\u001b[0m\u001b[0mtext\u001b[0m\u001b[0;34m]\u001b[0m \u001b[0;32mif\u001b[0m \u001b[0mpreserve_line\u001b[0m \u001b[0;32melse\u001b[0m \u001b[0msent_tokenize\u001b[0m\u001b[0;34m(\u001b[0m\u001b[0mtext\u001b[0m\u001b[0;34m,\u001b[0m \u001b[0mlanguage\u001b[0m\u001b[0;34m)\u001b[0m\u001b[0;34m\u001b[0m\u001b[0;34m\u001b[0m\u001b[0m\n\u001b[0m\u001b[1;32m    131\u001b[0m     return [\n\u001b[1;32m    132\u001b[0m         \u001b[0mtoken\u001b[0m \u001b[0;32mfor\u001b[0m \u001b[0msent\u001b[0m \u001b[0;32min\u001b[0m \u001b[0msentences\u001b[0m \u001b[0;32mfor\u001b[0m \u001b[0mtoken\u001b[0m \u001b[0;32min\u001b[0m \u001b[0m_treebank_word_tokenizer\u001b[0m\u001b[0;34m.\u001b[0m\u001b[0mtokenize\u001b[0m\u001b[0;34m(\u001b[0m\u001b[0msent\u001b[0m\u001b[0;34m)\u001b[0m\u001b[0;34m\u001b[0m\u001b[0;34m\u001b[0m\u001b[0m\n",
      "\u001b[0;32m~/anaconda3/lib/python3.7/site-packages/nltk/tokenize/__init__.py\u001b[0m in \u001b[0;36msent_tokenize\u001b[0;34m(text, language)\u001b[0m\n\u001b[1;32m    105\u001b[0m     \u001b[0;34m:\u001b[0m\u001b[0mparam\u001b[0m \u001b[0mlanguage\u001b[0m\u001b[0;34m:\u001b[0m \u001b[0mthe\u001b[0m \u001b[0mmodel\u001b[0m \u001b[0mname\u001b[0m \u001b[0;32min\u001b[0m \u001b[0mthe\u001b[0m \u001b[0mPunkt\u001b[0m \u001b[0mcorpus\u001b[0m\u001b[0;34m\u001b[0m\u001b[0;34m\u001b[0m\u001b[0m\n\u001b[1;32m    106\u001b[0m     \"\"\"\n\u001b[0;32m--> 107\u001b[0;31m     \u001b[0mtokenizer\u001b[0m \u001b[0;34m=\u001b[0m \u001b[0mload\u001b[0m\u001b[0;34m(\u001b[0m\u001b[0;34m\"tokenizers/punkt/{0}.pickle\"\u001b[0m\u001b[0;34m.\u001b[0m\u001b[0mformat\u001b[0m\u001b[0;34m(\u001b[0m\u001b[0mlanguage\u001b[0m\u001b[0;34m)\u001b[0m\u001b[0;34m)\u001b[0m\u001b[0;34m\u001b[0m\u001b[0;34m\u001b[0m\u001b[0m\n\u001b[0m\u001b[1;32m    108\u001b[0m     \u001b[0;32mreturn\u001b[0m \u001b[0mtokenizer\u001b[0m\u001b[0;34m.\u001b[0m\u001b[0mtokenize\u001b[0m\u001b[0;34m(\u001b[0m\u001b[0mtext\u001b[0m\u001b[0;34m)\u001b[0m\u001b[0;34m\u001b[0m\u001b[0;34m\u001b[0m\u001b[0m\n\u001b[1;32m    109\u001b[0m \u001b[0;34m\u001b[0m\u001b[0m\n",
      "\u001b[0;32m~/anaconda3/lib/python3.7/site-packages/nltk/data.py\u001b[0m in \u001b[0;36mload\u001b[0;34m(resource_url, format, cache, verbose, logic_parser, fstruct_reader, encoding)\u001b[0m\n\u001b[1;32m    748\u001b[0m \u001b[0;34m\u001b[0m\u001b[0m\n\u001b[1;32m    749\u001b[0m     \u001b[0;31m# Load the resource.\u001b[0m\u001b[0;34m\u001b[0m\u001b[0;34m\u001b[0m\u001b[0;34m\u001b[0m\u001b[0m\n\u001b[0;32m--> 750\u001b[0;31m     \u001b[0mopened_resource\u001b[0m \u001b[0;34m=\u001b[0m \u001b[0m_open\u001b[0m\u001b[0;34m(\u001b[0m\u001b[0mresource_url\u001b[0m\u001b[0;34m)\u001b[0m\u001b[0;34m\u001b[0m\u001b[0;34m\u001b[0m\u001b[0m\n\u001b[0m\u001b[1;32m    751\u001b[0m \u001b[0;34m\u001b[0m\u001b[0m\n\u001b[1;32m    752\u001b[0m     \u001b[0;32mif\u001b[0m \u001b[0mformat\u001b[0m \u001b[0;34m==\u001b[0m \u001b[0;34m\"raw\"\u001b[0m\u001b[0;34m:\u001b[0m\u001b[0;34m\u001b[0m\u001b[0;34m\u001b[0m\u001b[0m\n",
      "\u001b[0;32m~/anaconda3/lib/python3.7/site-packages/nltk/data.py\u001b[0m in \u001b[0;36m_open\u001b[0;34m(resource_url)\u001b[0m\n\u001b[1;32m    873\u001b[0m \u001b[0;34m\u001b[0m\u001b[0m\n\u001b[1;32m    874\u001b[0m     \u001b[0;32mif\u001b[0m \u001b[0mprotocol\u001b[0m \u001b[0;32mis\u001b[0m \u001b[0;32mNone\u001b[0m \u001b[0;32mor\u001b[0m \u001b[0mprotocol\u001b[0m\u001b[0;34m.\u001b[0m\u001b[0mlower\u001b[0m\u001b[0;34m(\u001b[0m\u001b[0;34m)\u001b[0m \u001b[0;34m==\u001b[0m \u001b[0;34m\"nltk\"\u001b[0m\u001b[0;34m:\u001b[0m\u001b[0;34m\u001b[0m\u001b[0;34m\u001b[0m\u001b[0m\n\u001b[0;32m--> 875\u001b[0;31m         \u001b[0;32mreturn\u001b[0m \u001b[0mfind\u001b[0m\u001b[0;34m(\u001b[0m\u001b[0mpath_\u001b[0m\u001b[0;34m,\u001b[0m \u001b[0mpath\u001b[0m \u001b[0;34m+\u001b[0m \u001b[0;34m[\u001b[0m\u001b[0;34m\"\"\u001b[0m\u001b[0;34m]\u001b[0m\u001b[0;34m)\u001b[0m\u001b[0;34m.\u001b[0m\u001b[0mopen\u001b[0m\u001b[0;34m(\u001b[0m\u001b[0;34m)\u001b[0m\u001b[0;34m\u001b[0m\u001b[0;34m\u001b[0m\u001b[0m\n\u001b[0m\u001b[1;32m    876\u001b[0m     \u001b[0;32melif\u001b[0m \u001b[0mprotocol\u001b[0m\u001b[0;34m.\u001b[0m\u001b[0mlower\u001b[0m\u001b[0;34m(\u001b[0m\u001b[0;34m)\u001b[0m \u001b[0;34m==\u001b[0m \u001b[0;34m\"file\"\u001b[0m\u001b[0;34m:\u001b[0m\u001b[0;34m\u001b[0m\u001b[0;34m\u001b[0m\u001b[0m\n\u001b[1;32m    877\u001b[0m         \u001b[0;31m# urllib might not use mode='rb', so handle this one ourselves:\u001b[0m\u001b[0;34m\u001b[0m\u001b[0;34m\u001b[0m\u001b[0;34m\u001b[0m\u001b[0m\n",
      "\u001b[0;32m~/anaconda3/lib/python3.7/site-packages/nltk/data.py\u001b[0m in \u001b[0;36mfind\u001b[0;34m(resource_name, paths)\u001b[0m\n\u001b[1;32m    581\u001b[0m     \u001b[0msep\u001b[0m \u001b[0;34m=\u001b[0m \u001b[0;34m\"*\"\u001b[0m \u001b[0;34m*\u001b[0m \u001b[0;36m70\u001b[0m\u001b[0;34m\u001b[0m\u001b[0;34m\u001b[0m\u001b[0m\n\u001b[1;32m    582\u001b[0m     \u001b[0mresource_not_found\u001b[0m \u001b[0;34m=\u001b[0m \u001b[0;34m\"\\n%s\\n%s\\n%s\\n\"\u001b[0m \u001b[0;34m%\u001b[0m \u001b[0;34m(\u001b[0m\u001b[0msep\u001b[0m\u001b[0;34m,\u001b[0m \u001b[0mmsg\u001b[0m\u001b[0;34m,\u001b[0m \u001b[0msep\u001b[0m\u001b[0;34m)\u001b[0m\u001b[0;34m\u001b[0m\u001b[0;34m\u001b[0m\u001b[0m\n\u001b[0;32m--> 583\u001b[0;31m     \u001b[0;32mraise\u001b[0m \u001b[0mLookupError\u001b[0m\u001b[0;34m(\u001b[0m\u001b[0mresource_not_found\u001b[0m\u001b[0;34m)\u001b[0m\u001b[0;34m\u001b[0m\u001b[0;34m\u001b[0m\u001b[0m\n\u001b[0m\u001b[1;32m    584\u001b[0m \u001b[0;34m\u001b[0m\u001b[0m\n\u001b[1;32m    585\u001b[0m \u001b[0;34m\u001b[0m\u001b[0m\n",
      "\u001b[0;31mLookupError\u001b[0m: \n**********************************************************************\n  Resource \u001b[93mpunkt\u001b[0m not found.\n  Please use the NLTK Downloader to obtain the resource:\n\n  \u001b[31m>>> import nltk\n  >>> nltk.download('punkt')\n  \u001b[0m\n  For more information see: https://www.nltk.org/data.html\n\n  Attempted to load \u001b[93mtokenizers/punkt/PY3/english.pickle\u001b[0m\n\n  Searched in:\n    - '/Users/ato/nltk_data'\n    - '/Users/ato/anaconda3/nltk_data'\n    - '/Users/ato/anaconda3/share/nltk_data'\n    - '/Users/ato/anaconda3/lib/nltk_data'\n    - '/usr/share/nltk_data'\n    - '/usr/local/share/nltk_data'\n    - '/usr/lib/nltk_data'\n    - '/usr/local/lib/nltk_data'\n    - ''\n**********************************************************************\n"
     ]
    }
   ],
   "source": [
    "tokens = nltk.word_tokenize(test_data)"
   ]
  },
  {
   "cell_type": "code",
   "execution_count": null,
   "id": "phantom-inclusion",
   "metadata": {},
   "outputs": [],
   "source": []
  }
 ],
 "metadata": {
  "kernelspec": {
   "display_name": "Python 3",
   "language": "python",
   "name": "python3"
  },
  "language_info": {
   "codemirror_mode": {
    "name": "ipython",
    "version": 3
   },
   "file_extension": ".py",
   "mimetype": "text/x-python",
   "name": "python",
   "nbconvert_exporter": "python",
   "pygments_lexer": "ipython3",
   "version": "3.7.3"
  }
 },
 "nbformat": 4,
 "nbformat_minor": 5
}
