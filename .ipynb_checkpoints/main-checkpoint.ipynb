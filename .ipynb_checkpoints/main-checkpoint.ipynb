{
 "cells": [
  {
   "cell_type": "code",
   "execution_count": 8,
   "id": "toxic-culture",
   "metadata": {},
   "outputs": [
    {
     "name": "stdout",
     "output_type": "stream",
     "text": [
      "{'<OOV>': 1, 'my': 2, 'love': 3, 'dog': 4, 'i': 5, 'you': 6, 'cat': 7, 'do': 8, 'think': 9, 'is': 10, 'amazing': 11}\n"
     ]
    }
   ],
   "source": [
    "from tensorflow.keras.preprocessing.text import Tokenizer\n",
    "sentences = [\n",
    "    'i love my dog',\n",
    "    'I, love my cat',\n",
    "    'You love my dog!',\n",
    "    'Do you think my dog is amazing?'\n",
    "]\n",
    "\n",
    "tokenizer = Tokenizer(num_words = 100, oov_token=\"<OOV>\")\n",
    "tokenizer.fit_on_texts(sentences)\n",
    "word_index = tokenizer.word_index\n",
    "print(word_index)"
   ]
  },
  {
   "cell_type": "code",
   "execution_count": 9,
   "id": "precious-quantity",
   "metadata": {},
   "outputs": [
    {
     "name": "stdout",
     "output_type": "stream",
     "text": [
      "[[5, 3, 2, 4], [5, 3, 2, 7], [6, 3, 2, 4], [8, 6, 9, 2, 4, 10, 11]]\n"
     ]
    }
   ],
   "source": [
    "sequence = tokenizer.texts_to_sequences(sentences)\n",
    "print(sequence)"
   ]
  },
  {
   "cell_type": "code",
   "execution_count": 10,
   "id": "choice-cabinet",
   "metadata": {},
   "outputs": [],
   "source": [
    "import textstat"
   ]
  },
  {
   "cell_type": "code",
   "execution_count": 40,
   "id": "important-titanium",
   "metadata": {},
   "outputs": [
    {
     "data": {
      "text/plain": [
       "41.63"
      ]
     },
     "execution_count": 40,
     "metadata": {},
     "output_type": "execute_result"
    }
   ],
   "source": [
    "\n",
    "test_data = \"\"\"NICOLA STURGEON is poised for five more years as the first minister of Scotland. By the evening of May 8th—two days after polling—her Scottish National Party was declared the biggest party in the Edinburgh parliament, falling just one seat short of a majority. Tactical voting by anti-independence voters, switching their ballots between Scotland’s Conservative and Labour parties, helped to thwart her. Still, it is a solid victory for the SNP, which has been in power under Ms Sturgeon and her predecessor, Alex Salmond, since 2007.Nationalists had hoped the election would be the first step towards the speedy dissolution of the United Kingdom. The SNP promised in its manifesto a second referendum on Scottish independence before the end of 2023. But a long and gruelling stalemate is more likely.Ms Sturgeon insists that the election result is a mandate for a referendum. The combined votes of the SNP and the Scottish Green Party, which also backs independence, are sufficient to pass a referendum law. The Scottish Conservatives declared that by failing to secure a majority on its own the SNP had failed to clear the bar for a referendum. Polls suggest only around a third of Scots agree with Ms Sturgeon, and many are undecided.Yet whether the Scottish Parliament, whatever its composition, has a political or legal right to organise a referendum is a matter of dispute. The Scotland Act, which underpins devolution, stipulates that the 314-year-old union of England and Scotland is the exclusive preserve of Westminster. The British government says that precludes a referendum without its authority—which David Cameron, then prime minister, granted for a vote in 2014, when Scots plumped by a margin of more than ten points to stay in the union. Ms Sturgeon hopes Boris Johnson will do the same, in order to put a second referendum beyond legal doubt. A refusal, she says, would be a defiance of the will of the Scottish people and in itself an argument for independence.But Mr Johnson has made it clear that he will refuse. Before the election results were known he told the Daily Telegraph that a referendum would be “irresponsible and reckless” while the economy and public services are recovering from covid-19. Mr Johnson has little incentive to authorise a poll. He certainly faces no pressure to hold one from within his own ranks (still officially the Conservative and Unionist Party) or from English voters.Mr Johnson has previously suggested that no referendum should take place for decades, but has recently adopted a softer, “not now”, approach, which seeks to deflate rather than confront separatism. On May 8th he invited Ms Sturgeon and Mark Drakeford, the re-elected first minister of Wales, to approach the “difficult journey” of recovery in a “spirit of unity and co-operation”. At the same time, the British government has little appetite for granting Scotland more powers; instead, Mr Johnson plans to relocate more civil servants there and to allocate more funding for Scottish infrastructure directly from London.Ms Sturgeon is opposed to “illegal, wildcat” referendums, such as that held in Catalonia in October 2017. A poll that was unrecognised by Britain and the EU, which an independent Scotland would hope to join, could be a dead-end for the nationalist cause. It would risk alienating undecided Scots, whom Ms Sturgeon has spent years trying to win over. She will, however, seek to jolt Mr Johnson’s hand, and test the limits of the Scottish Parliament’s powers, by daring the British government to block a referendum law in the Supreme Court in London. Any challenge would probably revolve around the question of whether the Scottish Parliament may legislate for an advisory referendum that did not automatically trigger independence. (Britain’s Brexit referendum of 2016 was in principle advisory. It had no automatic legal effects, even if its political impact was all too plain.)The Supreme Court has routinely heard cases about the remits of the devolved parliaments since they were founded two decades ago, often on relatively technical questions such as tobacco sales and insurance rules. But it is increasingly serving as a forum for confrontation between Ms Sturgeon and the British government. In April the British government said it would ask the court to review legislation passed in Edinburgh that would entrench in Scottish law the UN convention on children’s rights and a European charter on the rights of local government. The British government described the challenge as a purely legal question; Ms Sturgeon called it “morally repugnant”. Even if the nationalists lose, cases can provide them with handy propaganda: they can claim that their parliament is impotent. A challenge over a referendum bill will thrust judges into much more uncomfortable political terrain.Since no referendum is likely soon, the question is whether during the stalemate support for separation solidifies or peters away. Eve Hepburn, co-editor of “Scotland’s New Choice”, a new study on independence, argues that if the British government takes an “aggressive or dismissive” approach, reminiscent of Spain’s rejection of Catalan separatism, it will risk fuelling support for it.But Mr Johnson’s “not now” strategy has some hope of working. Polls suggest roughly half of Scots favour independence in principle, but only 30% want a referendum within two years as Ms Sturgeon proposes. The Daily Record, a left-wing tabloid, in an editorial on polling day, offered a typical view, arguing that a referendum should take place if the SNP triumphed, but only “at some point towards the end” of the parliament’s five-year term. Even the SNP’s campaign emphasised Ms Sturgeon’s stable leadership in the pandemic and an expansive welfare programme, more than the promise of a referendum. Scotland’s debate often echoes St Augustine: Lord make me independent, but not yet.Mr Johnson has one overwhelming reason to hold firm against a referendum until after the next general election, expected in 2023 or 2024. In elections in 2015 and 2019, his party told voters in England, with some success, that the alternative to a Conservative government in Westminster was an unstable coalition between a weak English Labour Party and a rickety SNP. His party has repeatedly described Sir Keir Starmer, the Labour leader, as too soft on separatism to halt a referendum. The SNP’s enduring performance is in the long harmful for the union, but pretty helpful to the Tories: just weak enough to resist, but strong enough to claim the union is in peril with any other prime minister.\"\"\"\n",
    "\n",
    "textstat.flesch_reading_ease(test_data)\n"
   ]
  },
  {
   "cell_type": "code",
   "execution_count": 41,
   "id": "optimum-petite",
   "metadata": {},
   "outputs": [
    {
     "data": {
      "text/plain": [
       "17.9"
      ]
     },
     "execution_count": 41,
     "metadata": {},
     "output_type": "execute_result"
    }
   ],
   "source": [
    "textstat.automated_readability_index(test_data)"
   ]
  },
  {
   "cell_type": "code",
   "execution_count": 50,
   "id": "extreme-country",
   "metadata": {},
   "outputs": [],
   "source": [
    "josh_fight = \"\"\"Hundreds of people have gathered in a US park, armed with pool noodles, to take part in a friendly battle over the right to use the name Josh.Last April, Arizona student Josh Swain, 22, jokingly messaged dozens of people who shared his name, and challenged them to a fight.It quickly went viral online.A year later, dozens of people called Josh arrived in Lincoln, Nebraska, to battle for the popular name.The event began with 'an epic contest of rock, paper, scissors' between organiser Josh Swain and another Josh Swain from Omaha, said Yousef Nasser, a reporter with local broadcaster KLKN, who filmed the battle. The Arizona Josh won the contest.'The subsequent pool noodle fight was open to anyone with the first name Josh. Dozens of Joshes - some wearing Spider-Man costumes and others in Jedi robes - tried to hit one another with the noodles, as a large crowd of cheering supporters looked on.In the end, four-year-old Josh Vinson Jr, nicknamed Little Josh, was crowned the winner. He received a Burger King crown, a champion's belt and a small trophy.The event also sparked a charity fundraising drive, which raised over $8000 (£5,800) for a local children's hospital, Mr Nasser added.The idea for the event began in April 2020 when Mr Swain, in a spell of pandemic boredom, started a group message with as many people he could find on Facebook who shared his first and last name. The college student challenged the doppelgangers to a duel for the right to be known as Josh Swain, on 24 April 2021.Mr Swain said he was surprised at how big the event turned out.\"\"\"\n",
    "hongkong = \"\"\"\n",
    "\n",
    "Jimmy Lai\n",
    "\n",
    "April 16 was a dark day for Hong Kong — a city that has seen many dark days in recent years, and whose days are getting darker. A court handed down sentences for nine advocates of democracy. What were they sentenced for? Well, advocating democracy.\n",
    "\n",
    "The U.S. secretary of state, Antony J. Blinken, issued a statement condemning the sentencing. He said that “Beijing and Hong Kong authorities are targeting Hong Kongers for doing nothing more than exercising protected rights and fundamental freedoms, including freedom of peaceful assembly and freedom of speech.”\n",
    "\n",
    "Obviously, the Chinese government fears democracy. Eight of the nine people just sentenced have, at one time or another, been democratically elected to Hong Kong’s legislature. And the ninth — Jimmy Lai, about whom more in a moment — is an ardent and brave supporter of democracy.\n",
    "\n",
    "Martin Lee, one of the nine, has long been known as “the father of democracy” in Hong Kong. Other democrats, worldwide, have been in awe of him since the 1980s. Lee founded the first democratic party in the city, the United Democrats of Hong Kong. Now 82, he was arrested last year for taking part in a protest. He made a poignant statement: “Over the months and years, I’ve felt bad to see so many outstanding youngsters being arrested and prosecuted, but I was not charged. Now I’ve finally become a defendant. I feel proud that I have a chance to walk this path of democracy together with them.”\n",
    "\n",
    "On Friday, the court sentenced Lee to eleven months, suspended. Other senior statesmen had their sentences suspended too. But Lee Cheuk-yan, 64, is one of the defendants who did not receive such a sentence. He is to spend a year and a half in prison. One of the things he is known for is organizing an annual vigil to commemorate the Tiananmen Square massacre — an event that the authorities wish to airbrush out.\n",
    "\n",
    "As we have seen, “mainland justice is being imported into Hong Kong.” That’s the way Ellen Bork put it in a podcast with National Review’s Jay Nordlinger on Friday. With other American advocates of democracy, she has formed the Committee for Freedom in Hong Kong.\n",
    "\n",
    "Jimmy Lai is 72. He is the entrepreneur who started out dirt-poor and rose to the heights of business. On his journey, he discovered Friedrich Hayek and Milton Friedman, becoming a staunch classical liberal. (Indeed, he has a bust of Hayek in the lobby of his media-group headquarters.) Lai is probably the most famous resident of Hong Kong. If you can hound and imprison him, you can hound and imprison anybody.\n",
    "\n",
    "The court sentenced Lai to 14 months in prison — yet he faces more charges under the new and sinister “national security” law. He could be sentenced to life in prison.\n",
    "\n",
    "Another member of that Committee for Freedom in Hong Kong is Perry Link, the China scholar who has long lent a helping hand to democrats (and has been banned from China for his troubles). He, too, participated in the aforementioned podcast, with Ellen Bork. He pointed out that Jimmy Lai had been leading a very comfortable life and could easily have left Hong Kong and put his feet up elsewhere. But he decided to stay and take a stand, and has now been deprived of his freedom.\n",
    "\n",
    "A report in the Washington Post included an apt phrase: The Chinese government is turning Hong Kong into a city “that resembles any other in China.” The government had promised “one country, two systems,” for 50 years — i.e., until 2047. But the government would not tolerate a distinct and democratic Hong Kong for even 25. Beijing is increasingly intolerant of Taiwan, too. Both of those places — Hong Kong and Taiwan — have been democratic outposts of China, setting a “bad” example for the billion Chinese on the mainland.\n",
    "\n",
    "Xi Jinping, the current Chinese No. 1, has a clear goal — a legacy project, if you will: to “unify” China, which is to say, to bring Hong Kong and Taiwan — and Uyghurs and others — to heel.\n",
    "\n",
    "What can the United States and other democratic governments do? People speak of “standing with.” Secretary Blinken, in his statement, said, “We will continue to stand with Hong Kongers as they respond to Beijing’s assault on [promised] freedoms and autonomy, and we will not stop calling for the release of those detained or imprisoned for exercising their fundamental freedoms.”\n",
    "\n",
    "“Calling for” is important. Moral support is a great and necessary part of “standing with.” The United States did this, to varying degrees, throughout the Cold War. But what else? A range of things. The United States and the rest of the Free World must confront China over its conduct in general — Hong Kong, the Uyghurs, Taiwan, etc.\n",
    "\n",
    "Going to the Beijing Olympics in 2022 should be out of the question. Business as usual — commercial relations, diplomatic niceties — should be reconsidered. We should continue to impose sanctions on individual human-rights abusers: asset freezes, visa denials. People in China should know that we are on their side, not the side of their rulers or persecutors. U.S. officials often vexed the Kremlin with human-rights complaints — with human-rights “spotlighting.” The same can be done now.\n",
    "\n",
    "“Hong Kong is not just Hong Kong on the world stage,” said Perry Link on Friday. “This is a frontier of a larger confrontation” — between democracy and dictatorship, freedom and unfreedom. “This thriving, energetic, free city is being taken over by an autocratic government and squelched. That’s a big fact wherever in the world it happens.”\n",
    "\n",
    "There were moving scenes in that courtroom, as Hong Kong democracy leaders were sentenced to prison. “Stay strong!” members of the audience cried out, as the prisoners were being led away. That is what the rest of us should do too, in the various ways we can: stay strong.\n",
    "\"\"\"\n"
   ]
  },
  {
   "cell_type": "code",
   "execution_count": 51,
   "id": "recreational-verse",
   "metadata": {},
   "outputs": [
    {
     "data": {
      "text/plain": [
       "63.93"
      ]
     },
     "execution_count": 51,
     "metadata": {},
     "output_type": "execute_result"
    }
   ],
   "source": [
    "textstat.flesch_reading_ease(hongkong)\n"
   ]
  },
  {
   "cell_type": "code",
   "execution_count": 44,
   "id": "returning-translation",
   "metadata": {},
   "outputs": [
    {
     "data": {
      "text/plain": [
       "28.2"
      ]
     },
     "execution_count": 44,
     "metadata": {},
     "output_type": "execute_result"
    }
   ],
   "source": [
    "textstat.automated_readability_index(josh_fight)"
   ]
  },
  {
   "cell_type": "code",
   "execution_count": 38,
   "id": "statistical-christian",
   "metadata": {},
   "outputs": [],
   "source": [
    "tokenizer = Tokenizer(num_words = 1000, oov_token=\"<OOV>\")"
   ]
  },
  {
   "cell_type": "code",
   "execution_count": 52,
   "id": "physical-green",
   "metadata": {},
   "outputs": [
    {
     "name": "stdout",
     "output_type": "stream",
     "text": [
      "{'<OOV>': 1, 'e': 2, 't': 3, 'n': 4, 'o': 5, 'a': 6, 'i': 7, 's': 8, 'r': 9, 'l': 10, 'h': 11, 'd': 12, 'c': 13, 'u': 14, 'm': 15, 'p': 16, 'f': 17, 'g': 18, 'w': 19, 'y': 20, 'v': 21, 'b': 22, 'k': 23, 'j': 24, '’': 25, '2': 26, '0': 27, '“': 28, '”': 29, '1': 30, 'x': 31, '3': 32, 'q': 33, '—': 34, '4': 35, '8': 36, '7': 37, '9': 38, '6': 39, '5': 40}\n"
     ]
    }
   ],
   "source": [
    "tokenizer.fit_on_texts(test_data)\n",
    "word_index = tokenizer.word_index\n",
    "print(word_index)"
   ]
  },
  {
   "cell_type": "code",
   "execution_count": 16,
   "id": "religious-plain",
   "metadata": {},
   "outputs": [],
   "source": [
    "import os\n",
    "from dotenv import load_dotenv\n",
    "from newsapi import NewsApiClient\n",
    "load_dotenv()\n",
    "apikey = os.getenv('NEWSAPIKEY')"
   ]
  },
  {
   "cell_type": "code",
   "execution_count": 17,
   "id": "spectacular-desire",
   "metadata": {},
   "outputs": [],
   "source": [
    "newsapi = NewsApiClient(api_key=apikey)"
   ]
  },
  {
   "cell_type": "code",
   "execution_count": 78,
   "id": "representative-corner",
   "metadata": {},
   "outputs": [
    {
     "name": "stdout",
     "output_type": "stream",
     "text": [
      "241\n"
     ]
    }
   ],
   "source": [
    "domains=\"\"\"\n",
    "bloomberg.com,thetimes.co.uk,stanforddaily.com,hongkongfp.com,theguardian.com,wsj.com,cnbc.com,theeconomist.com,nytimes.com,politicshome.com,foreignpolicy.com,asia.nikkei.com,ft.com,bbc.co.uk,spectator.co.uk,washingtonpost.com/\n",
    "\"\"\"\n",
    "print(len(domains))"
   ]
  },
  {
   "cell_type": "code",
   "execution_count": 79,
   "id": "greek-jacob",
   "metadata": {},
   "outputs": [
    {
     "ename": "TypeError",
     "evalue": "get_everything() got an unexpected keyword argument 'qInTitle'",
     "output_type": "error",
     "traceback": [
      "\u001b[0;31m-----------------------------------------------------------------\u001b[0m",
      "\u001b[0;31mTypeError\u001b[0m                       Traceback (most recent call last)",
      "\u001b[0;32m<ipython-input-79-5a4bcb880562>\u001b[0m in \u001b[0;36m<module>\u001b[0;34m\u001b[0m\n\u001b[1;32m      5\u001b[0m                                       \u001b[0mlanguage\u001b[0m\u001b[0;34m=\u001b[0m\u001b[0;34m'en'\u001b[0m\u001b[0;34m,\u001b[0m\u001b[0;34m\u001b[0m\u001b[0;34m\u001b[0m\u001b[0m\n\u001b[1;32m      6\u001b[0m                                       \u001b[0msort_by\u001b[0m\u001b[0;34m=\u001b[0m\u001b[0;34m'popularity'\u001b[0m\u001b[0;34m,\u001b[0m\u001b[0;34m\u001b[0m\u001b[0;34m\u001b[0m\u001b[0m\n\u001b[0;32m----> 7\u001b[0;31m                                       page=2)\n\u001b[0m\u001b[1;32m      8\u001b[0m \u001b[0;31m#domains='bbc.co.uk,independent.co.uk,scmp.com',\u001b[0m\u001b[0;34m\u001b[0m\u001b[0;34m\u001b[0m\u001b[0;34m\u001b[0m\u001b[0m\n",
      "\u001b[0;31mTypeError\u001b[0m: get_everything() got an unexpected keyword argument 'qInTitle'"
     ]
    }
   ],
   "source": [
    "all_articles = newsapi.get_everything(q='hong kong',\n",
    "                                      domains=domains,\n",
    "                                      from_param='2021-05-03',\n",
    "                                      to='2021-05-09',\n",
    "                                      language='en',\n",
    "                                      sort_by='popularity',\n",
    "                                      page=2)\n",
    "#domains='bbc.co.uk,independent.co.uk,scmp.com',"
   ]
  },
  {
   "cell_type": "code",
   "execution_count": 72,
   "id": "unavailable-sodium",
   "metadata": {},
   "outputs": [
    {
     "data": {
      "text/plain": [
       "{'status': 'ok',\n",
       " 'totalResults': 74,\n",
       " 'articles': [{'source': {'id': 'bloomberg', 'name': 'Bloomberg'},\n",
       "   'author': 'John Lauerman, James Paton',\n",
       "   'title': \"Patent Waiver Push Follows China's Shot Surge\",\n",
       "   'description': 'With India’s raging virus outbreak stifling its ability to deliver vaccines, and the U.S. only starting to ramp up shipments,\\xa0the world is fast becoming even more reliant on China.',\n",
       "   'url': 'https://www.bloomberg.com/news/newsletters/2021-05-07/patent-waiver-push-follows-china-s-shot-surge',\n",
       "   'urlToImage': 'https://assets.bwbx.io/images/users/iqjWHBFdfxIU/igAPTKFARncc/v0/1200x800.jpg',\n",
       "   'publishedAt': '2021-05-07T11:31:32Z',\n",
       "   'content': 'Patent push follows Chinas vaccine surge\\r\\nWith Indias raging virus outbreak stifling its ability to deliver vaccines, and the U.S. only starting to ramp up shipments,\\xa0the world is fast becoming even … [+3389 chars]'},\n",
       "  {'source': {'id': 'bloomberg', 'name': 'Bloomberg'},\n",
       "   'author': 'Tim Ross',\n",
       "   'title': 'U.K. Poised to Allow Foreign Trips to Just a Handful of Places',\n",
       "   'description': 'The U.K. is set to lift the ban on international leisure travel from mid-May but only a handful of countries are likely to be approved as holiday destinations, as ministers seek to keep control over the pandemic.',\n",
       "   'url': 'https://www.bloomberg.com/news/articles/2021-05-05/u-k-poised-to-allow-foreign-trips-to-just-a-handful-of-places',\n",
       "   'urlToImage': 'https://assets.bwbx.io/images/users/iqjWHBFdfxIU/iWOsP6TgSPrk/v0/1200x800.jpg',\n",
       "   'publishedAt': '2021-05-05T17:00:54Z',\n",
       "   'content': 'The U.K. is set to lift the ban on international leisure travel from mid-May but only a handful of countries are likely to be approved as holiday destinations, as ministers seek to keep control over … [+2965 chars]'},\n",
       "  {'source': {'id': 'bloomberg', 'name': 'Bloomberg'},\n",
       "   'author': 'Ann Koh',\n",
       "   'title': 'Seafarer Crisis Shows Signs of Worsening Amid India Virus Surge',\n",
       "   'description': 'Hundreds of thousands of seafarers risk being stuck at sea beyond the expiry of their contracts because of India’s surging coronavirus outbreak, according to one of the world’s largest independent crude ship owners.',\n",
       "   'url': 'https://www.bloomberg.com/news/articles/2021-05-07/seafarer-crisis-shows-signs-of-worsening-amid-india-virus-surge',\n",
       "   'urlToImage': 'https://assets.bwbx.io/images/users/iqjWHBFdfxIU/iAAJyCIpollw/v1/1200x800.jpg',\n",
       "   'publishedAt': '2021-05-07T04:00:41Z',\n",
       "   'content': 'Supply Lines is a daily newsletter that tracks trade and supply chains disrupted by the pandemic.\\xa0Sign up here.\\r\\nHundreds of thousands of seafarers risk being stuck at sea beyond the expiry of their … [+2634 chars]'},\n",
       "  {'source': {'id': 'bloomberg', 'name': 'Bloomberg'},\n",
       "   'author': 'Gearoid Reidy, Ishika Mookerjee',\n",
       "   'title': \"Asian Vaccine Makers' Shares Slammed as U.S. Backs IP Waiver\",\n",
       "   'description': 'U.S. support for a proposal to waive intellectual-property protections for Covid-19 vaccines might be good news for the global inoculation campaign, but it’s an unwelcome turn for firms whose share prices have been buoyed by profits from coronavirus shots.',\n",
       "   'url': 'https://www.bloomberg.com/news/articles/2021-05-06/asian-vaccines-maker-shares-slammed-as-u-s-backs-ip-waiver',\n",
       "   'urlToImage': 'https://assets.bwbx.io/images/users/iqjWHBFdfxIU/iFBYyOWcpdJQ/v0/1200x800.jpg',\n",
       "   'publishedAt': '2021-05-06T05:32:53Z',\n",
       "   'content': 'U.S. support for a proposal to waive intellectual-property protections for Covid-19 vaccines might be good news for the global inoculation campaign, but its an unwelcome turn for firms whose share pr… [+2594 chars]'},\n",
       "  {'source': {'id': 'bloomberg', 'name': 'Bloomberg'},\n",
       "   'author': 'Alyssa McDonald, Tracy Alloway',\n",
       "   'title': 'Five Things You Need to Know to Start Your Day',\n",
       "   'description': \"Bill and Melinda Gates to divorce\\xa0after 27 years. Warren Buffett names a successor. Virus variants overwhelm\\xa0countries from Thailand to Trinidad. Here's what you need to know to start your day.\",\n",
       "   'url': 'https://www.bloomberg.com/news/newsletters/2021-05-03/five-things-you-need-to-know-to-start-your-day-ko972bok',\n",
       "   'urlToImage': 'https://assets.bwbx.io/images/users/iqjWHBFdfxIU/iZWkI43rifa0/v0/1200x749.jpg',\n",
       "   'publishedAt': '2021-05-03T22:48:37Z',\n",
       "   'content': \"Bill and Melinda Gates to divorce\\xa0after 27 years. Warren Buffett names a successor. Virus variants overwhelm\\xa0countries from Thailand to Trinidad. Here's what you need to know to start your day.\\r\\nIts … [+7282 chars]\"},\n",
       "  {'source': {'id': 'bloomberg', 'name': 'Bloomberg'},\n",
       "   'author': 'Suzanne Woolley, Nupur Acharya, Yoojung Lee, Moxy Ying',\n",
       "   'title': 'Where to Invest $100,000 In Asia Right Now',\n",
       "   'description': 'Five money managers offer investment ideas for the world’s fastest growing region.',\n",
       "   'url': 'https://www.bloomberg.com/news/features/2021-05-05/where-to-invest-100-000-in-asia-china-value-stocks-cloud-software-nfts',\n",
       "   'urlToImage': 'https://assets.bwbx.io/images/users/iqjWHBFdfxIU/iqOeaBtzBLuc/v0/1200x675.jpg',\n",
       "   'publishedAt': '2021-05-05T23:00:34Z',\n",
       "   'content': 'Its all relative.\\r\\nIn the U.S. \\xa0a nation trying to recover from the economic devastation of the Covid-19 pandemic a\\xa0growth rate of 6.4% sounds pretty good. But thats until you see the International M… [+15441 chars]'},\n",
       "  {'source': {'id': 'bloomberg', 'name': 'Bloomberg'},\n",
       "   'author': 'Matt Levine',\n",
       "   'title': \"Money Stuff: Dogecoin Is Up Because It's Funny\",\n",
       "   'description': 'Programming note: Money Stuff will be off tomorrow, back Monday.',\n",
       "   'url': 'https://www.bloomberg.com/news/newsletters/2021-05-06/money-stuff-dogecoin-is-up-because-it-s-funny',\n",
       "   'urlToImage': 'https://assets.bwbx.io/images/users/iqjWHBFdfxIU/iNMYAFZ9xpcQ/v0/1200x800.jpg',\n",
       "   'publishedAt': '2021-05-06T16:45:00Z',\n",
       "   'content': 'Programming note: Money Stuff will be off tomorrow, back Monday.\\r\\nMuch efficient very market\\r\\nLook I enjoyed \\r\\nGameStop as much as anyone. It was dumb fun, it seemed to say something weird and \\r\\nalar… [+28043 chars]'},\n",
       "  {'source': {'id': 'bloomberg', 'name': 'Bloomberg'},\n",
       "   'author': 'Iain Marlow, Sudhi Ranjan Sen, James Paton',\n",
       "   'title': 'The World Turns to China for Vaccines After India, U.S. Stumble - Bloomberg',\n",
       "   'description': '<ol><li>The World Turns to China for Vaccines After India, U.S. Stumble\\xa0\\xa0Bloomberg\\r\\n</li><li>Sinopharm vaccine likely to get WHO approval with condition: experts\\xa0\\xa0Global Times\\r\\n</li><li>Duterte to Chinese envoy: Send us Sinovac COVID-19 shots, not Sinopharm |…',\n",
       "   'url': 'https://www.bloomberg.com/news/articles/2021-05-06/the-world-turns-to-china-for-vaccines-after-india-u-s-stumble',\n",
       "   'urlToImage': 'https://assets.bwbx.io/images/users/iqjWHBFdfxIU/iYERt8fdGZQ0/v0/1200x800.jpg',\n",
       "   'publishedAt': '2021-05-06T21:00:00Z',\n",
       "   'content': 'The world is fast becoming ever more reliant on China for vaccines, with Indias raging virus outbreak stifling its ability to deliver on supply deals, even as the U.S. tries to position itself as a c… [+8056 chars]'},\n",
       "  {'source': {'id': 'bloomberg', 'name': 'Bloomberg'},\n",
       "   'author': 'Shirley Zhao',\n",
       "   'title': \"Billionaire Li Ka-shing Bets on Southeast Asia's Tech Startups - Bloomberg\",\n",
       "   'description': 'Hong Kong tycoon Li Ka-shing’s private investment firm Horizons Ventures Ltd. will make Southeast Asia a priority, with the region’s digital economy booming as the pandemic drives more people to use the internet.',\n",
       "   'url': 'https://www.bloomberg.com/news/articles/2021-05-06/billionaire-li-ka-shing-bets-on-southeast-asia-s-tech-startups',\n",
       "   'urlToImage': 'https://assets.bwbx.io/images/users/iqjWHBFdfxIU/i0XQd0spVY0A/v0/1200x800.jpg',\n",
       "   'publishedAt': '2021-05-06T21:00:00Z',\n",
       "   'content': 'Hong Kong tycoon Li Ka-shings private investment firm \\r\\nHorizons Ventures Ltd. will make Southeast Asia a priority, with the regions digital economy booming as the pandemic drives more people to use … [+3170 chars]'},\n",
       "  {'source': {'id': 'the-wall-street-journal',\n",
       "    'name': 'The Wall Street Journal'},\n",
       "   'author': 'Will Horner',\n",
       "   'title': 'Stock Futures Edge Lower With Tech Retreating - The Wall Street Journal',\n",
       "   'description': 'S&P 500 is on course for modest losses ahead of a string of earnings and trade deficit data',\n",
       "   'url': 'https://www.wsj.com/articles/global-stock-markets-dow-update-05-04-2021-11620113927',\n",
       "   'urlToImage': 'https://images.wsj.net/im-333627/social',\n",
       "   'publishedAt': '2021-05-04T08:44:00Z',\n",
       "   'content': 'U.S. stock futures ticked down Tuesday as investors awaited data that will likely show the trade deficit widened to a fresh record in March. Futures tied to the broad S&amp;P 500 index slid 0.2%. The… [+2423 chars]'},\n",
       "  {'source': {'id': None, 'name': 'Foreign Policy'},\n",
       "   'author': 'Suzanne Nossel',\n",
       "   'title': 'Killing Hong Kong’s Free Press Will Harm Its Economy',\n",
       "   'description': 'Beijing is betting expats will flock to the city despite China’s draconian media crackdown—but faced with censorship, many international elites could vote with their feet.',\n",
       "   'url': 'https://foreignpolicy.com/2021/05/03/killing-hong-kongs-free-press-will-harm-its-economy/',\n",
       "   'urlToImage': 'https://foreignpolicy.com/wp-content/uploads/2021/05/jimmy-lai-hong-kong-media-censorship.jpg?w=1000',\n",
       "   'publishedAt': '2021-05-03T05:00:43Z',\n",
       "   'content': 'The Chinese government is making a high-stakes bid to force Hong Konglong an outpost of freedominto abject political and civic submission while sustaining the territorys status as a global hub for fi… [+11036 chars]'},\n",
       "  {'source': {'id': None, 'name': 'Foreign Policy'},\n",
       "   'author': 'James Palmer',\n",
       "   'title': 'The Downside of China’s Online Muscle-Flexing',\n",
       "   'description': 'An offensive Weibo post about India’s coronavirus crisis highlights the limits of “wolf warrior” diplomacy.',\n",
       "   'url': 'https://foreignpolicy.com/2021/05/05/china-wolf-warrior-diplomacy-downside-weibo-india-coronavirus/',\n",
       "   'urlToImage': 'https://foreignpolicy.com/wp-content/uploads/2021/05/china-flag-wuhan-GettyImages-1228365666.jpg?w=1000',\n",
       "   'publishedAt': '2021-05-05T23:14:39Z',\n",
       "   'content': 'Welcome to Foreign Policys China Brief.\\r\\nThe highlights this week: An offensive Weibo post triggers a backlash in India, what to believe about Chinas population numbers, and regulators levy a $1.5 bi… [+7804 chars]'},\n",
       "  {'source': {'id': None, 'name': 'Foreign Policy'},\n",
       "   'author': 'Stephen M. Walt',\n",
       "   'title': 'The World Might Want China’s Rules',\n",
       "   'description': 'Washington shouldn’t assume its values are more attractive to others than Beijing’s.',\n",
       "   'url': 'https://foreignpolicy.com/2021/05/04/the-world-might-want-chinas-rules/',\n",
       "   'urlToImage': 'https://foreignpolicy.com/wp-content/uploads/2021/05/GettyImages-85871016-1.jpg?w=1000',\n",
       "   'publishedAt': '2021-05-04T12:43:12Z',\n",
       "   'content': 'In his address to Congress last week, U.S. President Joe Biden pulled a page from former U.S. President Dwight Eisenhowers playbook and tied an ambitious set of domestic programs to the need to compe… [+12528 chars]'},\n",
       "  {'source': {'id': 'bbc-news', 'name': 'BBC News'},\n",
       "   'author': 'https://www.facebook.com/bbcnews',\n",
       "   'title': 'Hong Kong: Joshua Wong jailed over banned Tiananmen vigil',\n",
       "   'description': 'The Tiananmen vigil commemorated the deaths of up to thousands of pro-democracy protesters in China.',\n",
       "   'url': 'https://www.bbc.co.uk/news/world-asia-china-57005120',\n",
       "   'urlToImage': 'https://ichef.bbci.co.uk/news/1024/branded_news/EEDC/production/_118384116_gettyimages-1150363858.jpg',\n",
       "   'publishedAt': '2021-05-06T03:56:26Z',\n",
       "   'content': 'image copyrightCarl Court\\r\\nimage captionFile photo of Joshua Wong\\r\\nHong Kong pro-democracy activist Joshua Wong has been sentenced to 10 months in jail for participating in an unauthorised vigil mark… [+3207 chars]'},\n",
       "  {'source': {'id': 'bloomberg', 'name': 'Bloomberg'},\n",
       "   'author': 'Kyunghee Park',\n",
       "   'title': 'Singapore-Hong Kong Travel Bubble Has Families on Edge',\n",
       "   'description': 'As Singapore’s government assesses any potential change to a planned travel bubble with Hong Kong following a spike in local virus cases, families on both sides of the South China Sea are waiting and watching with bated breath -- again.',\n",
       "   'url': 'https://www.bloomberg.com/news/articles/2021-05-05/singapore-hong-kong-travel-bubble-has-families-on-tenterhooks',\n",
       "   'urlToImage': 'https://assets.bwbx.io/images/users/iqjWHBFdfxIU/iHpYQwGJC5u0/v0/1200x799.jpg',\n",
       "   'publishedAt': '2021-05-05T06:27:25Z',\n",
       "   'content': 'As Singapores government \\r\\nassesses any potential change to a planned travel bubble with Hong Kong following a spike in local virus cases, families on both sides of the South China Sea are waiting an… [+4646 chars]'},\n",
       "  {'source': {'id': 'bloomberg', 'name': 'Bloomberg'},\n",
       "   'author': 'Chloe Lo, Felix Tam',\n",
       "   'title': 'Hong Kong Reviews Mandatory Vaccinations for Domestic Workers',\n",
       "   'description': 'Hong Kong is reviewing a decision to make Covid-19 vaccinations mandatory for foreign domestic workers after the decision set off a wave of criticism in the Asian financial hub.',\n",
       "   'url': 'https://www.bloomberg.com/news/articles/2021-05-04/hong-kong-reviews-mandatory-vaccinations-for-domestic-workers',\n",
       "   'urlToImage': 'https://assets.bwbx.io/images/users/iqjWHBFdfxIU/iR0WQWz_UxEQ/v1/1200x799.jpg',\n",
       "   'publishedAt': '2021-05-04T03:16:44Z',\n",
       "   'content': 'Hong Kong is reviewing a decision to make Covid-19 vaccinations mandatory for foreign domestic workers after the decision set off a wave of criticism in the Asian financial hub.\\r\\nAlthough officials h… [+2335 chars]'},\n",
       "  {'source': {'id': 'bloomberg', 'name': 'Bloomberg'},\n",
       "   'author': 'Chloe Lo',\n",
       "   'title': 'Joshua Wong’s Hong Kong Prison Sentence Keeps Getting Longer',\n",
       "   'description': 'A Hong Kong court added 10 months to pro-democracy activist Joshua Wong’s jail term, raising concern the city is expanding its crackdown on dissent.',\n",
       "   'url': 'https://www.bloomberg.com/news/articles/2021-05-06/famed-hong-kong-activist-s-prison-sentence-keeps-getting-longer',\n",
       "   'urlToImage': 'https://assets.bwbx.io/images/users/iqjWHBFdfxIU/i1rq1C06oED4/v0/1200x800.jpg',\n",
       "   'publishedAt': '2021-05-06T03:00:05Z',\n",
       "   'content': 'A Hong Kong court added 10 months to pro-democracy activist Joshua Wongs jail term, raising concern the city is expanding its crackdown on dissent.\\r\\nThe ruling by Hong Kongs District Court came Thurs… [+2794 chars]'},\n",
       "  {'source': {'id': 'bloomberg', 'name': 'Bloomberg'},\n",
       "   'author': 'Philip Heijmans',\n",
       "   'title': 'Singapore Tightens Virus Rules in India Variant Cluster Fallout',\n",
       "   'description': 'Singapore is limiting social gatherings to a maximum of five people and tightening border curbs as it reacts aggressively to a flareup linked to the new variant first identified in India, a setback to one of the world’s most successful virus containment regim…',\n",
       "   'url': 'https://www.bloomberg.com/news/articles/2021-05-04/singapore-tightens-virus-rules-in-india-variant-cluster-fallout',\n",
       "   'urlToImage': 'https://assets.bwbx.io/images/users/iqjWHBFdfxIU/iIZFdQb3V8Ow/v1/1200x800.jpg',\n",
       "   'publishedAt': '2021-05-04T10:57:47Z',\n",
       "   'content': 'Singapore is limiting social gatherings to a maximum of five people and tightening border curbs as it reacts aggressively to a flareup linked to the new variant first identified in India, a setback t… [+3598 chars]'},\n",
       "  {'source': {'id': 'bloomberg', 'name': 'Bloomberg'},\n",
       "   'author': 'Alberto Nardelli, Nick Wadhams',\n",
       "   'title': 'U.S. Proposes G-7 Coordination to Counter China’s Economic Might',\n",
       "   'description': 'The Group of Seven nations is considering a U.S. proposal to counter what the White House sees as China’s economic coercion.',\n",
       "   'url': 'https://www.bloomberg.com/news/articles/2021-05-04/u-s-proposes-g-7-coordination-to-counter-china-s-economic-might',\n",
       "   'urlToImage': 'https://assets.bwbx.io/images/users/iqjWHBFdfxIU/itBjCZK1BegM/v0/1200x848.jpg',\n",
       "   'publishedAt': '2021-05-04T14:02:15Z',\n",
       "   'content': 'The Group of Seven nations is considering a U.S. proposal to counter what the White House sees as Chinas economic coercion.\\r\\nA paper was circulated ahead of a two-day meeting of G-7 foreign ministers… [+2159 chars]'},\n",
       "  {'source': {'id': 'bloomberg', 'name': 'Bloomberg'},\n",
       "   'author': 'Aoife White, Natalia Drozdiak, John Follain',\n",
       "   'title': 'European Union Knits Together Strategies to Check China',\n",
       "   'description': 'The European Union set out strategies to counter state-funded Chinese takeovers and repatriate the production of semiconductors, just as the U.S. seeks to persuade the world’s biggest economies to harden their stance against Beijing.',\n",
       "   'url': 'https://www.bloomberg.com/news/articles/2021-05-05/europe-knits-together-strategies-to-hold-the-line-against-china',\n",
       "   'urlToImage': 'https://assets.bwbx.io/images/users/iqjWHBFdfxIU/imKejmzM5hM8/v1/1200x800.jpg',\n",
       "   'publishedAt': '2021-05-05T09:01:49Z',\n",
       "   'content': 'The European Union set out \\r\\nstrategies to counter state-funded Chinese takeovers and repatriate the production of semiconductors, just as the U.S. seeks to persuade the worlds biggest economies to h… [+2989 chars]'}]}"
      ]
     },
     "execution_count": 72,
     "metadata": {},
     "output_type": "execute_result"
    }
   ],
   "source": [
    "all_articles[]"
   ]
  },
  {
   "cell_type": "code",
   "execution_count": 76,
   "id": "proprietary-oakland",
   "metadata": {},
   "outputs": [
    {
     "ename": "AttributeError",
     "evalue": "'dict' object has no attribute 'source'",
     "output_type": "error",
     "traceback": [
      "\u001b[0;31m-----------------------------------------------------------------\u001b[0m",
      "\u001b[0;31mAttributeError\u001b[0m                  Traceback (most recent call last)",
      "\u001b[0;32m<ipython-input-76-adf8b2985b34>\u001b[0m in \u001b[0;36m<module>\u001b[0;34m\u001b[0m\n\u001b[0;32m----> 1\u001b[0;31m \u001b[0mall_articles\u001b[0m\u001b[0;34m.\u001b[0m\u001b[0msource\u001b[0m\u001b[0;34m\u001b[0m\u001b[0;34m\u001b[0m\u001b[0m\n\u001b[0m",
      "\u001b[0;31mAttributeError\u001b[0m: 'dict' object has no attribute 'source'"
     ]
    }
   ],
   "source": [
    "all_articles.source"
   ]
  },
  {
   "cell_type": "code",
   "execution_count": null,
   "id": "invisible-redhead",
   "metadata": {},
   "outputs": [],
   "source": []
  }
 ],
 "metadata": {
  "kernelspec": {
   "display_name": "Python 3",
   "language": "python",
   "name": "python3"
  },
  "language_info": {
   "codemirror_mode": {
    "name": "ipython",
    "version": 3
   },
   "file_extension": ".py",
   "mimetype": "text/x-python",
   "name": "python",
   "nbconvert_exporter": "python",
   "pygments_lexer": "ipython3",
   "version": "3.7.3"
  }
 },
 "nbformat": 4,
 "nbformat_minor": 5
}
