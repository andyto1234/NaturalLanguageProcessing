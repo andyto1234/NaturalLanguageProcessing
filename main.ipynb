{
 "cells": [
  {
   "cell_type": "code",
   "execution_count": 3,
   "id": "manual-rapid",
   "metadata": {},
   "outputs": [
    {
     "name": "stderr",
     "output_type": "stream",
     "text": [
      "/Users/ato/anaconda3/lib/python3.7/site-packages/tensorboard/compat/tensorflow_stub/dtypes.py:541: FutureWarning: Passing (type, 1) or '1type' as a synonym of type is deprecated; in a future version of numpy, it will be understood as (type, (1,)) / '(1,)type'.\n",
      "  _np_qint8 = np.dtype([(\"qint8\", np.int8, 1)])\n",
      "/Users/ato/anaconda3/lib/python3.7/site-packages/tensorboard/compat/tensorflow_stub/dtypes.py:542: FutureWarning: Passing (type, 1) or '1type' as a synonym of type is deprecated; in a future version of numpy, it will be understood as (type, (1,)) / '(1,)type'.\n",
      "  _np_quint8 = np.dtype([(\"quint8\", np.uint8, 1)])\n",
      "/Users/ato/anaconda3/lib/python3.7/site-packages/tensorboard/compat/tensorflow_stub/dtypes.py:543: FutureWarning: Passing (type, 1) or '1type' as a synonym of type is deprecated; in a future version of numpy, it will be understood as (type, (1,)) / '(1,)type'.\n",
      "  _np_qint16 = np.dtype([(\"qint16\", np.int16, 1)])\n",
      "/Users/ato/anaconda3/lib/python3.7/site-packages/tensorboard/compat/tensorflow_stub/dtypes.py:544: FutureWarning: Passing (type, 1) or '1type' as a synonym of type is deprecated; in a future version of numpy, it will be understood as (type, (1,)) / '(1,)type'.\n",
      "  _np_quint16 = np.dtype([(\"quint16\", np.uint16, 1)])\n",
      "/Users/ato/anaconda3/lib/python3.7/site-packages/tensorboard/compat/tensorflow_stub/dtypes.py:545: FutureWarning: Passing (type, 1) or '1type' as a synonym of type is deprecated; in a future version of numpy, it will be understood as (type, (1,)) / '(1,)type'.\n",
      "  _np_qint32 = np.dtype([(\"qint32\", np.int32, 1)])\n",
      "/Users/ato/anaconda3/lib/python3.7/site-packages/tensorboard/compat/tensorflow_stub/dtypes.py:550: FutureWarning: Passing (type, 1) or '1type' as a synonym of type is deprecated; in a future version of numpy, it will be understood as (type, (1,)) / '(1,)type'.\n",
      "  np_resource = np.dtype([(\"resource\", np.ubyte, 1)])\n"
     ]
    },
    {
     "name": "stdout",
     "output_type": "stream",
     "text": [
      "{'<OOV>': 1, 'my': 2, 'love': 3, 'dog': 4, 'i': 5, 'you': 6, 'cat': 7, 'do': 8, 'think': 9, 'is': 10, 'amazing': 11}\n"
     ]
    }
   ],
   "source": [
    "from tensorflow.keras.preprocessing.text import Tokenizer\n",
    "sentences = [\n",
    "    'i love my dog',\n",
    "    'I, love my cat',\n",
    "    'You love my dog!',\n",
    "    'Do you think my dog is amazing?'\n",
    "]\n",
    "\n",
    "tokenizer = Tokenizer(num_words = 100, oov_token=\"<OOV>\")\n",
    "tokenizer.fit_on_texts(sentences)\n",
    "word_index = tokenizer.word_index\n",
    "print(word_index)"
   ]
  },
  {
   "cell_type": "code",
   "execution_count": 4,
   "id": "smoking-poison",
   "metadata": {},
   "outputs": [
    {
     "name": "stdout",
     "output_type": "stream",
     "text": [
      "[[5, 3, 2, 4], [5, 3, 2, 7], [6, 3, 2, 4], [8, 6, 9, 2, 4, 10, 11]]\n"
     ]
    }
   ],
   "source": [
    "sequence = tokenizer.texts_to_sequences(sentences)\n",
    "print(sequence)"
   ]
  },
  {
   "cell_type": "code",
   "execution_count": 5,
   "id": "figured-debate",
   "metadata": {},
   "outputs": [],
   "source": [
    "import textstat"
   ]
  },
  {
   "cell_type": "code",
   "execution_count": 6,
   "id": "positive-germany",
   "metadata": {},
   "outputs": [
    {
     "data": {
      "text/plain": [
       "41.63"
      ]
     },
     "execution_count": 6,
     "metadata": {},
     "output_type": "execute_result"
    }
   ],
   "source": [
    "\n",
    "test_data = \"\"\"NICOLA STURGEON is poised for five more years as the first minister of Scotland. By the evening of May 8th—two days after polling—her Scottish National Party was declared the biggest party in the Edinburgh parliament, falling just one seat short of a majority. Tactical voting by anti-independence voters, switching their ballots between Scotland’s Conservative and Labour parties, helped to thwart her. Still, it is a solid victory for the SNP, which has been in power under Ms Sturgeon and her predecessor, Alex Salmond, since 2007.Nationalists had hoped the election would be the first step towards the speedy dissolution of the United Kingdom. The SNP promised in its manifesto a second referendum on Scottish independence before the end of 2023. But a long and gruelling stalemate is more likely.Ms Sturgeon insists that the election result is a mandate for a referendum. The combined votes of the SNP and the Scottish Green Party, which also backs independence, are sufficient to pass a referendum law. The Scottish Conservatives declared that by failing to secure a majority on its own the SNP had failed to clear the bar for a referendum. Polls suggest only around a third of Scots agree with Ms Sturgeon, and many are undecided.Yet whether the Scottish Parliament, whatever its composition, has a political or legal right to organise a referendum is a matter of dispute. The Scotland Act, which underpins devolution, stipulates that the 314-year-old union of England and Scotland is the exclusive preserve of Westminster. The British government says that precludes a referendum without its authority—which David Cameron, then prime minister, granted for a vote in 2014, when Scots plumped by a margin of more than ten points to stay in the union. Ms Sturgeon hopes Boris Johnson will do the same, in order to put a second referendum beyond legal doubt. A refusal, she says, would be a defiance of the will of the Scottish people and in itself an argument for independence.But Mr Johnson has made it clear that he will refuse. Before the election results were known he told the Daily Telegraph that a referendum would be “irresponsible and reckless” while the economy and public services are recovering from covid-19. Mr Johnson has little incentive to authorise a poll. He certainly faces no pressure to hold one from within his own ranks (still officially the Conservative and Unionist Party) or from English voters.Mr Johnson has previously suggested that no referendum should take place for decades, but has recently adopted a softer, “not now”, approach, which seeks to deflate rather than confront separatism. On May 8th he invited Ms Sturgeon and Mark Drakeford, the re-elected first minister of Wales, to approach the “difficult journey” of recovery in a “spirit of unity and co-operation”. At the same time, the British government has little appetite for granting Scotland more powers; instead, Mr Johnson plans to relocate more civil servants there and to allocate more funding for Scottish infrastructure directly from London.Ms Sturgeon is opposed to “illegal, wildcat” referendums, such as that held in Catalonia in October 2017. A poll that was unrecognised by Britain and the EU, which an independent Scotland would hope to join, could be a dead-end for the nationalist cause. It would risk alienating undecided Scots, whom Ms Sturgeon has spent years trying to win over. She will, however, seek to jolt Mr Johnson’s hand, and test the limits of the Scottish Parliament’s powers, by daring the British government to block a referendum law in the Supreme Court in London. Any challenge would probably revolve around the question of whether the Scottish Parliament may legislate for an advisory referendum that did not automatically trigger independence. (Britain’s Brexit referendum of 2016 was in principle advisory. It had no automatic legal effects, even if its political impact was all too plain.)The Supreme Court has routinely heard cases about the remits of the devolved parliaments since they were founded two decades ago, often on relatively technical questions such as tobacco sales and insurance rules. But it is increasingly serving as a forum for confrontation between Ms Sturgeon and the British government. In April the British government said it would ask the court to review legislation passed in Edinburgh that would entrench in Scottish law the UN convention on children’s rights and a European charter on the rights of local government. The British government described the challenge as a purely legal question; Ms Sturgeon called it “morally repugnant”. Even if the nationalists lose, cases can provide them with handy propaganda: they can claim that their parliament is impotent. A challenge over a referendum bill will thrust judges into much more uncomfortable political terrain.Since no referendum is likely soon, the question is whether during the stalemate support for separation solidifies or peters away. Eve Hepburn, co-editor of “Scotland’s New Choice”, a new study on independence, argues that if the British government takes an “aggressive or dismissive” approach, reminiscent of Spain’s rejection of Catalan separatism, it will risk fuelling support for it.But Mr Johnson’s “not now” strategy has some hope of working. Polls suggest roughly half of Scots favour independence in principle, but only 30% want a referendum within two years as Ms Sturgeon proposes. The Daily Record, a left-wing tabloid, in an editorial on polling day, offered a typical view, arguing that a referendum should take place if the SNP triumphed, but only “at some point towards the end” of the parliament’s five-year term. Even the SNP’s campaign emphasised Ms Sturgeon’s stable leadership in the pandemic and an expansive welfare programme, more than the promise of a referendum. Scotland’s debate often echoes St Augustine: Lord make me independent, but not yet.Mr Johnson has one overwhelming reason to hold firm against a referendum until after the next general election, expected in 2023 or 2024. In elections in 2015 and 2019, his party told voters in England, with some success, that the alternative to a Conservative government in Westminster was an unstable coalition between a weak English Labour Party and a rickety SNP. His party has repeatedly described Sir Keir Starmer, the Labour leader, as too soft on separatism to halt a referendum. The SNP’s enduring performance is in the long harmful for the union, but pretty helpful to the Tories: just weak enough to resist, but strong enough to claim the union is in peril with any other prime minister.\"\"\"\n",
    "\n",
    "textstat.flesch_reading_ease(test_data)\n"
   ]
  },
  {
   "cell_type": "code",
   "execution_count": 7,
   "id": "ignored-draft",
   "metadata": {},
   "outputs": [
    {
     "data": {
      "text/plain": [
       "17.9"
      ]
     },
     "execution_count": 7,
     "metadata": {},
     "output_type": "execute_result"
    }
   ],
   "source": [
    "textstat.automated_readability_index(test_data)"
   ]
  },
  {
   "cell_type": "code",
   "execution_count": 13,
   "id": "rocky-thickness",
   "metadata": {},
   "outputs": [],
   "source": [
    "josh_fight = \"\"\"Hundreds of people have gathered in a US park, armed with pool noodles, to take part in a friendly battle over the right to use the name Josh.Last April, Arizona student Josh Swain, 22, jokingly messaged dozens of people who shared his name, and challenged them to a fight.It quickly went viral online.A year later, dozens of people called Josh arrived in Lincoln, Nebraska, to battle for the popular name.The event began with 'an epic contest of rock, paper, scissors' between organiser Josh Swain and another Josh Swain from Omaha, said Yousef Nasser, a reporter with local broadcaster KLKN, who filmed the battle. The Arizona Josh won the contest.'The subsequent pool noodle fight was open to anyone with the first name Josh. Dozens of Joshes - some wearing Spider-Man costumes and others in Jedi robes - tried to hit one another with the noodles, as a large crowd of cheering supporters looked on.In the end, four-year-old Josh Vinson Jr, nicknamed Little Josh, was crowned the winner. He received a Burger King crown, a champion's belt and a small trophy.The event also sparked a charity fundraising drive, which raised over $8000 (£5,800) for a local children's hospital, Mr Nasser added.The idea for the event began in April 2020 when Mr Swain, in a spell of pandemic boredom, started a group message with as many people he could find on Facebook who shared his first and last name. The college student challenged the doppelgangers to a duel for the right to be known as Josh Swain, on 24 April 2021.Mr Swain said he was surprised at how big the event turned out.\"\"\"\n",
    "hongkong = \"\"\"\n",
    "\n",
    "Jimmy Lai\n",
    "\n",
    "April 16 was a dark day for Hong Kong — a city that has seen many dark days in recent years, and whose days are getting darker. A court handed down sentences for nine advocates of democracy. What were they sentenced for? Well, advocating democracy.\n",
    "\n",
    "The U.S. secretary of state, Antony J. Blinken, issued a statement condemning the sentencing. He said that “Beijing and Hong Kong authorities are targeting Hong Kongers for doing nothing more than exercising protected rights and fundamental freedoms, including freedom of peaceful assembly and freedom of speech.”\n",
    "\n",
    "Obviously, the Chinese government fears democracy. Eight of the nine people just sentenced have, at one time or another, been democratically elected to Hong Kong’s legislature. And the ninth — Jimmy Lai, about whom more in a moment — is an ardent and brave supporter of democracy.\n",
    "\n",
    "Martin Lee, one of the nine, has long been known as “the father of democracy” in Hong Kong. Other democrats, worldwide, have been in awe of him since the 1980s. Lee founded the first democratic party in the city, the United Democrats of Hong Kong. Now 82, he was arrested last year for taking part in a protest. He made a poignant statement: “Over the months and years, I’ve felt bad to see so many outstanding youngsters being arrested and prosecuted, but I was not charged. Now I’ve finally become a defendant. I feel proud that I have a chance to walk this path of democracy together with them.”\n",
    "\n",
    "On Friday, the court sentenced Lee to eleven months, suspended. Other senior statesmen had their sentences suspended too. But Lee Cheuk-yan, 64, is one of the defendants who did not receive such a sentence. He is to spend a year and a half in prison. One of the things he is known for is organizing an annual vigil to commemorate the Tiananmen Square massacre — an event that the authorities wish to airbrush out.\n",
    "\n",
    "As we have seen, “mainland justice is being imported into Hong Kong.” That’s the way Ellen Bork put it in a podcast with National Review’s Jay Nordlinger on Friday. With other American advocates of democracy, she has formed the Committee for Freedom in Hong Kong.\n",
    "\n",
    "Jimmy Lai is 72. He is the entrepreneur who started out dirt-poor and rose to the heights of business. On his journey, he discovered Friedrich Hayek and Milton Friedman, becoming a staunch classical liberal. (Indeed, he has a bust of Hayek in the lobby of his media-group headquarters.) Lai is probably the most famous resident of Hong Kong. If you can hound and imprison him, you can hound and imprison anybody.\n",
    "\n",
    "The court sentenced Lai to 14 months in prison — yet he faces more charges under the new and sinister “national security” law. He could be sentenced to life in prison.\n",
    "\n",
    "Another member of that Committee for Freedom in Hong Kong is Perry Link, the China scholar who has long lent a helping hand to democrats (and has been banned from China for his troubles). He, too, participated in the aforementioned podcast, with Ellen Bork. He pointed out that Jimmy Lai had been leading a very comfortable life and could easily have left Hong Kong and put his feet up elsewhere. But he decided to stay and take a stand, and has now been deprived of his freedom.\n",
    "\n",
    "A report in the Washington Post included an apt phrase: The Chinese government is turning Hong Kong into a city “that resembles any other in China.” The government had promised “one country, two systems,” for 50 years — i.e., until 2047. But the government would not tolerate a distinct and democratic Hong Kong for even 25. Beijing is increasingly intolerant of Taiwan, too. Both of those places — Hong Kong and Taiwan — have been democratic outposts of China, setting a “bad” example for the billion Chinese on the mainland.\n",
    "\n",
    "Xi Jinping, the current Chinese No. 1, has a clear goal — a legacy project, if you will: to “unify” China, which is to say, to bring Hong Kong and Taiwan — and Uyghurs and others — to heel.\n",
    "\n",
    "What can the United States and other democratic governments do? People speak of “standing with.” Secretary Blinken, in his statement, said, “We will continue to stand with Hong Kongers as they respond to Beijing’s assault on [promised] freedoms and autonomy, and we will not stop calling for the release of those detained or imprisoned for exercising their fundamental freedoms.”\n",
    "\n",
    "“Calling for” is important. Moral support is a great and necessary part of “standing with.” The United States did this, to varying degrees, throughout the Cold War. But what else? A range of things. The United States and the rest of the Free World must confront China over its conduct in general — Hong Kong, the Uyghurs, Taiwan, etc.\n",
    "\n",
    "Going to the Beijing Olympics in 2022 should be out of the question. Business as usual — commercial relations, diplomatic niceties — should be reconsidered. We should continue to impose sanctions on individual human-rights abusers: asset freezes, visa denials. People in China should know that we are on their side, not the side of their rulers or persecutors. U.S. officials often vexed the Kremlin with human-rights complaints — with human-rights “spotlighting.” The same can be done now.\n",
    "\n",
    "“Hong Kong is not just Hong Kong on the world stage,” said Perry Link on Friday. “This is a frontier of a larger confrontation” — between democracy and dictatorship, freedom and unfreedom. “This thriving, energetic, free city is being taken over by an autocratic government and squelched. That’s a big fact wherever in the world it happens.”\n",
    "\n",
    "There were moving scenes in that courtroom, as Hong Kong democracy leaders were sentenced to prison. “Stay strong!” members of the audience cried out, as the prisoners were being led away. That is what the rest of us should do too, in the various ways we can: stay strong.\n",
    "\"\"\"\n",
    "\n",
    "rocket = \"\"\"Debris from a Chinese rocket is expected to fall back to Earth in an uncontrolled re-entry this weekend.\n",
    "\n",
    "The main segment from the Long March-5b vehicle was used to launch the first module of China's new space station last month.\n",
    "\n",
    "At 18 tonnes it is one of the largest items in decades to have an undirected dive into the atmosphere.\n",
    "\n",
    "The US on Thursday said it was watching the path of the object but currently had no plans to shoot it down.\n",
    "\n",
    "\"We're hopeful that it will land in a place where it won't harm anyone,\" US Defense Secretary Lloyd Austin said. \"Hopefully in the ocean, or someplace like that.\"\n",
    "\n",
    "Various space debris modelling experts are pointing to late Saturday or early Sunday (GMT) as the likely moment of re-entry. However, such projections are always highly uncertain.\n",
    "\n",
    "Re-entry zone\n",
    "Originally injected into an elliptical orbit approximately 160km by 375km above Earth's surface on 29 April, the Long March-5b core stage has been losing height ever since.\n",
    "\n",
    "Just how quickly the core's orbit will continue to decay will depend on the density of air it encounters at altitude and the amount of drag this produces. These details are poorly known.\n",
    "\n",
    "\n",
    "The BBC is not responsible for the content of external sites.\n",
    "View original tweet on Twitter\n",
    "Most of the vehicle should burn up when it makes its final plunge through the atmosphere, although there is always the possibility that metals with high melting points, and other resistant materials, could survive to the surface.\n",
    "\n",
    "China launches first module of new space station\n",
    "Space debris removal demonstration launches\n",
    "When a similar core stage returned to Earth a year ago, piping assumed to be from the rocket was identified on the ground in Ivory Coast, Africa.\n",
    "\n",
    "The chances of anyone actually being hit by a piece of space junk are very small, not least because so much of the Earth's surface is covered by ocean, and because that part which is land includes huge areas that are uninhabited.\n",
    "\n",
    "\n",
    "The BBC is not responsible for the content of external sites.\n",
    "View original tweet on Twitter\n",
    "The zone of potential fall in this case is restricted still further by the trajectory of the rocket stage. It's moving on an inclination to the equator of about 41.5 degrees. This means it's possible already to exclude that any debris could fall further north than approximately 41.5 degrees North latitude and further south than 41.5 degrees South latitude.\n",
    "\n",
    "Long March 5b rocket\n",
    "China has bridled at the suggestion that it has been negligent in allowing the uncontrolled return of so large an object. Commentary in the country's media has described Western reports about the potential hazards involved as \"hype\" and predicted the debris will likely fall somewhere in international waters.\n",
    "\n",
    "The Global Times quoted aerospace expert Song Zhongping who added that China's space monitoring network would keep a close watch and take necessary measures should damage occur.\n",
    "\n",
    "But the respected cataloguer of space activity, Jonathan McDowell from the Harvard-Smithsonian Center for Astrophysics, US, said the situation did reflect poorly on China.\n",
    "\n",
    "\"It is indeed seen as negligence,\" he told BBC News.\n",
    "\n",
    "\"This is the second launch of this rocket; the debris in Ivory Coast last year was from the previous launch, i.e. a basically identical rocket.\n",
    "\n",
    "\"These two incidents [the one now and the Ivory Coast one] are the two largest objects deliberately left to re-enter uncontrolled since Skylab in 1979.\"\n",
    "\n",
    "Fragments of the US space station Skylab scattered across Western Australia in 1979, attracting worldwide attention.\n",
    "\n",
    "Hugh Lewis, who models space debris at Southampton University, UK, noted that more than 60 years of spaceflight had left a large legacy of junk in orbit. The responsibility for this litter rests on several countries, but principally Russia and the US.\n",
    "\n",
    "\"It's worth remembering that there are approximately 900 orbital rocket stages in low-Earth orbit, left behind by nearly every launch-capable nation and with a combined mass orders or magnitude greater than the one expected to re-enter the atmosphere this [weekend],\" Dr Lewis posted on Twitter.\n",
    "\n",
    "Graphic showing key elements of China's space station March-5B rocket launched the Tianhe module on 29 April\n",
    "Modern practice now calls for rocket stages to be de-orbited as soon as possible after their mission. In the case of large core segments, these would normally come straight back, within one orbit, falling into the ocean or on land (the US company SpaceX now propulsively lands its core stages so they can be used again).\n",
    "\n",
    "For upper-stages that go into an orbit and may travel around the globe several times as they precisely position a payload, the preference is to include a re-ignitable engine that can steer the stage into a return at the earliest opportunity.\n",
    "\n",
    "Usually, this would be over an ocean - potentially in the furthest place from land in the South Pacific, between Australia, New Zealand and South America.\n",
    "\n",
    "Over an area of approximately 1,500 sq km (580 sq miles) this region is a popular graveyard of rocket elements and defunct satellites, where the remains of around 260 missions are thought to be scattered on the ocean floor.\"\"\"\n",
    "\n",
    "\n",
    "taiwan = \"\"\"At least 50 people died and more than 156 were wounded in Taiwan when an express train carrying hundreds of passengers at the start of a long-weekend break derailed in a tunnel on Friday morning after smashing into a lorry.\n",
    "\n",
    "The train was traveling from Taipei to the southeastern city of Taitung when it was reportedly hit by a truck that had been badly parked at the top of a railroad embankment. The lorry slid into the train carriages and caused it to derail at high speed just as it entered the tunnel, trapping passengers inside and hampering rescue efforts, according to reports.\n",
    "\n",
    "The front of the train was badly damaged by the impact, in which both the captain and his assistant died, according to reports. Rescuers struggled to free those trapped in the wreckage, though by mid-afternoon all the survivors had been freed.\n",
    "\n",
    "One passenger, surnamed Chen, said she had been sleeping when the incident happened.\n",
    "\n",
    "“I was startled awake by a loud crash. I couldn’t see anything because the entire train was filled with smoke. Fortunately, my family wasn’t trapped,” she said.\n",
    "\n",
    "“Many were stuck under the chairs, unconscious … When I walked out of the carriage, there were corpses everywhere,” she added.\n",
    "\n",
    "Several news reports showed footage of survivors being led out of the tunnel.\n",
    "\n",
    "According to Taiwan media, many passengers were standing as the train was crowded.\n",
    "\n",
    "An investigation is under way into the exact circumstances of the tragedy, and the issue of whether the train was overcrowded.\n",
    "\n",
    "The crash took place on the first day of the Qingming, or Tomb-sweeping festival, in which people traditionally return to their ancestral homes to visit their ancestors’ graves.\n",
    "\n",
    "Most casualties had wounds to their heads and other extremities, conceivably because of objects falling from above or from a stampede when people were trying to escape, said a spokesperson from the nearest hospital where most of the injured passengers were taken. Passengers who had been standing were also thrown about by the impact.\n",
    "\n",
    "The mangled wreck of a yellow truck was seen by the side of the railway. The vehicle was suspected to have slid down the embankment and into the path of the train, Taiwan’s Central News Agency reported, adding that the truck driver had been taken by the police for questioning.\n",
    "\n",
    "Train services along the affected line running down Taiwan’s dramatic and rocky southeast coast were immediately suspended following the accident, with about 6,400 passengers affected as of 2 p.m., said the Taiwan Railways Administration.\n",
    "\n",
    "It may take about a week to repair the line, the administration told a press briefing.\n",
    "\n",
    "As of 5.30 p.m., the death toll was 50, while 156 were wounded.\"\"\"\n",
    "\n",
    "BBC_basic = \"\"\"“Are we nearly there yet?” asked Bella, banging her feet against the back of Mum's seat.\n",
    "\n",
    "Joe, who was sitting next to her, groaned. “That's the tenth time she's asked that. And there's still miles to go.”\n",
    "\n",
    "The Hobson family were off to Scotland to visit Nana and Gramps. It was school holidays, and they were going to spend a whole week there.\n",
    "\n",
    "They had crammed all their suitcases into the car and said goodbye to their friends and to Granny, who was going to look after their pets while they were away.\n",
    "\n",
    "Now, Bella and Joe were sitting in the back seat. But Bella was bored.\n",
    "\n",
    "“Why don't you have a nap, Bella?” suggested Dad.\n",
    "\n",
    "“I'm not sleepy!”\n",
    "\n",
    "“Why not watch another film on your tablet?”\n",
    "\n",
    "“Don't want to.”\n",
    "\n",
    "“Let's play I Spy,” said Mum. “You start, Joe.”\n",
    "\n",
    "Bella always enjoyed playing this game. Joe had to choose something that he could see, and everyone else had to guess what it was.\n",
    "\n",
    "Joe looked around and saw some cows grazing in a field.\n",
    "\n",
    "“I spy with my little eye, something beginning with C.”\n",
    "\n",
    "“Car,” guessed Mum.\n",
    "\n",
    "“No.”\n",
    "\n",
    "“Camper van,” guessed Dad.\n",
    "\n",
    "“No.”\n",
    "\n",
    "“Cloud?” guessed Bella.\n",
    "\n",
    "“No.”\n",
    "\n",
    "“What is it then?”\n",
    "\n",
    "“Cow,” said Joe.\n",
    "\n",
    "“But I can't see any cows,” said Bella, looking around.\n",
    "\n",
    "“Well, no,” Joe admitted. “We've gone past now. But there was a field of cows before.”\n",
    "\n",
    "Bella wasn't pleased. So Joe let her have a turn. The trouble was, they soon ran out of things to “I spy”. There wasn't much to see, apart from fields and hedges, the road in front of them, and the traffic going past.\n",
    "\n",
    "So it was a great relief when Dad suddenly said, “I spy coffee,” and Mum turned the car off the motorway and into a motorway service station.\n",
    "\n",
    "Having a snack cheered everybody up. Then they put more petrol in the car. “It won't be long now,” said Mum as they set off. But as Dad drove towards the motorway, they got a terrible shock.\n",
    "\n",
    "There were cars as far as the eye could see, and none of them was moving. It was a giant traffic jam.\n",
    "\n",
    "“There must be roadworks,” said Mum.\n",
    "\n",
    "“It's going to take hours,” said Joe.\n",
    "\n",
    "Dad turned the car around. “We won't go on the motorway. We'll take the small roads instead.”\n",
    "\n",
    "“But we don't know the way,” Mum said.\n",
    "\n",
    "“We'll use our phones. They will show us the way!”\n",
    "\n",
    "They drove into the hills. There were no more cars. There was no traffic at all. The trouble was, soon there was no phone reception either!\n",
    "\n",
    "“I knew this was a bad idea,” said Mum.\n",
    "\n",
    "“Nonsense,” said Dad. “I know where we're going!”\n",
    "\n",
    "Bella fell asleep. The roads grew narrower and turned into country lanes. Eventually, they arrived at a crossroads.\n",
    "\n",
    "“Now what?” said Mum. “Left or right or straight ahead?”\n",
    "\n",
    "“Hmm,” said Dad.\n",
    "\n",
    "“We're lost,” said Mum. “Admit it! There's nobody to ask, either.”\n",
    "\n",
    "Mum and Dad started squabbling. Joe sat and wondered what they should do. He had no idea which way led to Scotland. The only good thing was that Bella was still asleep, so at least he didn't have to listen to her complaining, and asking how long it would be.\n",
    "\n",
    "Suddenly, Bella woke up.\n",
    "\n",
    "“Are we nearly there yet?”\n",
    "\n",
    "“No,” said Joe. “We don't know which way to go.”\n",
    "\n",
    "Bella pointed out the window. “That way!” she said firmly.\n",
    "\n",
    "Dad started the car and drove the way that Bella had pointed.\n",
    "\n",
    "“But she's just guessing!” Joe said.\n",
    "\n",
    "“She sounds very sure,” said Dad. “After all, we have to go somewhere!”\n",
    "\n",
    "They hadn't travelled far when Mum gave a cry. “Look! A signpost! Bella was right!”\n",
    "\n",
    "Joe had to laugh. It might have been a lucky guess, but still, if it weren't for Bella, they would still be arguing at the crossroads.\n",
    "\n",
    "“Are we nearly there yet?” Bella asked.\n",
    "\n",
    "“Yes,” said Joe, “this time we really are!” \"\"\"\n",
    "\n",
    "ielts = \"\"\"\n",
    "A) From the very first caveman to scale a tree or hang from a cliff face, to the mighty armies of the Greco-Roman empires and the gymnasiums of modern American high schools, calisthenics has endured and thrived because of its simplicity and utility. Unlike strength training which involves weights, machines or resistance bands, calisthenics uses only the body’s own weight for physical development.\n",
    "\n",
    "B) Calisthenics enters the historical record at around 480 B.C., with Herodotus’ account of the Battle of Thermopolylae. Herodotus reported that, prior to the battle, the god-king Xerxes sent a scout party to spy on his Spartan enemies. The scouts informed Xerxes that the Spartans, under the leadership of King Leonidas, were practicing some kind of bizarre, synchronised movements akin to a tribal dance. Xerxes was greatly amused. His own army was comprised of over 120,000 men, while the Spartans had just 300. Leonidas was informed that he must retreat or face annihilation. The Spartans did not retreat, however, and in the ensuing battle they managed to hold Xerxes’ enormous army at bay for some time until reinforcements arrived. It turns out their tribal dance was not a superstitious ritual but a form of calisthenics by which they were building awe-inspiring physical strength and endurance.\n",
    "\n",
    "C) The Greeks took calisthenics seriously not only as a form of military discipline and strength, but also as an artistic expression of movement and an aesthetically ideal physique. Indeed, the term calisthenics itself is derived from the Greek words for beauty and strength.  We know from historical records and images from pottery, mosaics and sculptures of the period that the ancient Olympians took calisthenics training seriously. They were greatly admired – and still are, today – for their combination of athleticism and physical beauty. You may have heard a friend whimsically sigh and mention that someone ‘has the body of a Greek god’. This expression has travelled through centuries and continents, and the source of this envy and admiration is the calisthenics method.\n",
    "\n",
    "D) Calisthenics experienced its second golden age in the 1800s. This century saw the birth of gymnastics, an organised sport that uses a range of bars, rings, vaulting horses and balancing beams to display physical prowess. This period is also when the phenomena of strongmen developed. These were people of astounding physical strength and development who forged nomadic careers by demonstrating outlandish feats of strength to stunned populations. Most of these men trained using hand balancing and horizontal bars, as modern weight machines had not yet been invented.\n",
    "\n",
    "E) In the 1950s, Angelo Siciliano – who went by the stage name Charles Atlas – was crowned “The World’s Most Perfectly Developed Man”. Atlas’s own approach stemmed from traditional calisthenics, and through a series of mail order comic books he taught these methods to hundreds of thousands of children and young adults through the 1960s and 1970s. But Atlas was the last of a dying breed. The tides were turning, fitness methods were drifting away from calisthenics, and no widely-regarded proponent of the method would ever succeed him.\n",
    "\n",
    "F) In the 1960s and 1970s calisthenics and the goal of functional strength combined with physical beauty was replaced by an emphasis on huge muscles at any cost. This became the sport of body building. Although body building’s pioneers were drawn from the calisthenics tradition, the sole goal soon became an increase in muscle size. Body building icons, people such as Arnold Schwarzenegger and Sergio Oliva were called mass monsters because of their imposing physiques. Physical development of this nature was only attainable through the use of anabolic steroids, synthetic hormones which boosted muscle development while harming overall health. These body builders also relied on free weights and machines, which allowed them to target and bloat the size of individual muscles rather than develop a naturally proportioned body. Calisthenics, with its emphasis on physical beauty and a balance in proportions, had little to offer the mass monsters.\n",
    "\n",
    "G) In this “bigger is better” climate, calisthenics was relegated to groups perceived to be vulnerable, such as women, people recuperating from injuries and school students. Although some of the strongest and most physically developed human beings ever to have lived acquired their abilities through the use of sophisticated calisthenics, a great deal of this knowledge was discarded and the method was reduced to nothing more than an easily accessible and readily available activity. Those who mastered the rudimentary skills of calisthenics could expect to graduate to weight training rather than advanced calisthenics.\n",
    "\n",
    "H) In recent years, however, fitness trends have been shifting back toward the use of calisthenics. Bodybuilding approaches that promote excessive muscle development frequently lead to joint pain, injuries, unbalanced physiques and weak cardiovascular health. As a result, many of the newest and most popular gyms and programmes emphasise calisthenics-based methods instead. Modern practices often combine elements from a number of related traditions such as yoga, Pilates, kettle-ball training, gymnastics and traditional Greco-Roman calisthenics. Many people are keen to recover the original Greek vision of physical beauty and strength and harmony of the mind-body connection.\"\"\"\n",
    "\n",
    "ielts2 = \"\"\"\n",
    "When we talk about how films convey meaning we tend to refer to acting, music, dialogue, props and narrative developments, but often forgotten is the visual essence of a film itself, which is the cutting together of moving images – “motion pictures” – each one carefully tailored to meet a particular need or purpose.  \n",
    "\n",
    "Most films and many important scenes within them open with an establishing shot. Typically this shot precedes our introduction to the main characters by presenting us with the locale in which the scene’s action or dialogue is about to occur. Occasionally, however, a director will use an establishing shot with another goal in mind. An opening view of a thousand soldiers parading in synchronized fashion might have little to reveal about the film’s geography, for example, but it does inform the audience that ideas about discipline and conformity are likely to arise in the material that follows. In this way, establishing shots can also introduce a film’s theme. \n",
    "\n",
    "After an establishing shot, most directors choose a long shot in order to progress the narrative. This type of shot displays the entire human physique in relation to its surroundings, so it is ideal for bridging the narrative divide between location and individual activity. A long shot is therefore often used to centre on a pivotal character in the scene. A film might begin with an establishing shot of bleak, snowy mountains and then cut to a long shot of a lone skier, for example, or a sweeping panorama of a bustling metropolis could segue into a street view of someone entering a building.\n",
    "\n",
    "From here the door is wide open for directors to choose whichever shots will enhance the narration. Close-up shots are popular in suspense sequences – a handgun being loaded, a doorknob being turned, the startled expression of someone freshly roused from sleep. Confining the visual field in this way adds to the viewer’s apprehension. Dramatic films will probably want to emphasise character interaction. The third-person shot – in which a third of the frame consists of a rear view of a person’s upper torso and head – can be effectively utilised here. This shot encourages us to actually slip into the persona of that character, and vicariously live through their experiences.\n",
    "\n",
    "A number of special-purpose shots are used quite rarely – once, if at all, in most films. One such type is the money shot. A money shot has no specific technical features or content, but is typically the most expensive element of a film’s production values and comes with a cost massively disproportionate to its screen time (which may be limited to just a brief glimpse). Because of its spectacular, extravagant nature, however, the money shot is a major revenue generator and is widely exploited for use in promotional materials. Money shots are most popular amongst – but not limited to – high visual-impact genres such as action, war, thriller and disaster films. \n",
    "\n",
    "But more affordable shots can also add an interesting twist to the story. The Dutch tilt can depict a character in a state of psychological unease by shooting them from a jaunty angle. In this way they appear literally and metaphorically unbalanced. A trunk shot often shows a small group of characters peering into the trunk of a vehicle. It is filmed from a perspective within the trunk itself, although frequently to avoid camera damage directors will simply place a detached piece of trunk door in the corner of the frame. This shot was a favourite of Quentin Tarantino and has been used in many crime and gangster films, often as a first-person shot through the eyes of someone who is tied up and lying inside the vehicle. A shot that has gained traction in avant-garde circles is the extreme close-up. This is when a single detail of the subject fills up the entire frame. Alfred Hitchcock famously used an extreme close-up in ‘Psycho’, when he merged a shot of a shower drain into a view of a victim’s eye. It has also been used in Westerns to depict tension between duelling gunmen eyeing each other up before a shoot out.\n",
    "\n",
    "Not all types of shots are used in order to enhance the narrative. Sometimes financial restrictions or technical limitations are a more pressing concern, especially for low-budget film makers. In the early murder mysteries of the 1920s and 1930s, the American shot – which acquired its name from French critics who referred to a “plan américain” – was used widely for its ability to present complex dialogue scenes without alterations in camera position. Using the American shot, directors have their cast assemble in single file while discussing key plot points. The result is an efficiently produced scene that conveys all relevant information, but the trade off is a natural tone. Because few people in real life would ever associate in such an awkward manner, American shots tend to result in a hammy, stiff feel to the production. \"\"\""
   ]
  },
  {
   "cell_type": "code",
   "execution_count": 14,
   "id": "mexican-eugene",
   "metadata": {},
   "outputs": [
    {
     "name": "stdout",
     "output_type": "stream",
     "text": [
      "15.08\n",
      "18.4\n",
      "12.14\n",
      "10.22\n",
      "12.67\n",
      "9.6\n",
      "7.28\n",
      "11.03\n",
      "5.78\n",
      "IELTS: 8.58\n",
      "IELTS2: 8.32\n",
      "['synchronised', 'abilities', 'proportioned', 'utility', 'physical', 'phenomena', 'practicing', 'ritual', 'physically', 'athleticism', 'pioneers', 'inspiring', 'traditions', 'experienced', 'tradition', 'reinforcements', 'reported', 'century', 'aesthetically', 'easily', 'calisthenics', 'demonstrating', 'leadership', 'activity', 'siciliano', 'readily', 'gymnastics', 'sophisticated', 'ensuing', 'bodybuilding', 'simplicity', 'graduate', 'balancing', 'superstitious', 'rudimentary', 'connection', 'angelo', 'seriously', 'relegated', 'functional', 'recuperating', 'original', 'develop', 'individual', 'excessive', 'traditional', 'military', 'developed', 'continents', 'naturally', 'elements', 'regarded', 'gymnasiums', 'thermopolylae', 'imposing', 'harmony', 'period', 'organised', 'development', 'frequently', 'unbalanced', 'proponent', 'related', 'expression', 'vulnerable', 'discarded', 'cardiovascular', 'accessible', 'recover', 'whimsically', 'resistance', 'historical', 'attainable', 'emphasise', 'perfectly', 'annihilation', 'admiration', 'horizontal', 'proportions', 'enemies', 'populations', 'astounding', 'invented', 'synthetic', 'combination', 'approaches', 'discipline', 'popular', 'anabolic', 'emphasis']\n",
      "32.69\n"
     ]
    }
   ],
   "source": [
    "print(textstat.flesch_reading_ease(taiwan))\n",
    "print(textstat.smog_index(taiwan))\n",
    "print(textstat.coleman_liau_index(taiwan))\n",
    "print(textstat.coleman_liau_index(hongkong))\n",
    "print(textstat.coleman_liau_index(rocket))\n",
    "print(textstat.dale_chall_readability_score(taiwan))\n",
    "print(textstat.dale_chall_readability_score(hongkong))\n",
    "print(textstat.dale_chall_readability_score(rocket))\n",
    "print(textstat.dale_chall_readability_score(BBC_basic))\n",
    "print(\"IELTS:\",textstat.dale_chall_readability_score(ielts))\n",
    "print(\"IELTS2:\",textstat.dale_chall_readability_score(ielts2))\n",
    "\n",
    "\n",
    "print(textstat.difficult_words_list(ielts, syllable_threshold=3))\n",
    "print(textstat.reading_time(taiwan))\n"
   ]
  },
  {
   "cell_type": "code",
   "execution_count": 10,
   "id": "latter-contrast",
   "metadata": {},
   "outputs": [],
   "source": [
    "tokenizer = Tokenizer(num_words = 1000, oov_token=\"<OOV>\")"
   ]
  },
  {
   "cell_type": "code",
   "execution_count": 52,
   "id": "actual-michael",
   "metadata": {},
   "outputs": [
    {
     "name": "stdout",
     "output_type": "stream",
     "text": [
      "{'<OOV>': 1, 'e': 2, 't': 3, 'n': 4, 'o': 5, 'a': 6, 'i': 7, 's': 8, 'r': 9, 'l': 10, 'h': 11, 'd': 12, 'c': 13, 'u': 14, 'm': 15, 'p': 16, 'f': 17, 'g': 18, 'w': 19, 'y': 20, 'v': 21, 'b': 22, 'k': 23, 'j': 24, '’': 25, '2': 26, '0': 27, '“': 28, '”': 29, '1': 30, 'x': 31, '3': 32, 'q': 33, '—': 34, '4': 35, '8': 36, '7': 37, '9': 38, '6': 39, '5': 40}\n"
     ]
    }
   ],
   "source": [
    "tokenizer.fit_on_texts(test_data)\n",
    "word_index = tokenizer.word_index\n",
    "print(word_index)"
   ]
  },
  {
   "cell_type": "code",
   "execution_count": 16,
   "id": "amended-attention",
   "metadata": {},
   "outputs": [],
   "source": [
    "import os\n",
    "from dotenv import load_dotenv\n",
    "from newsapi import NewsApiClient\n",
    "load_dotenv()\n",
    "apikey = os.getenv('NEWSAPIKEY')"
   ]
  },
  {
   "cell_type": "code",
   "execution_count": 17,
   "id": "serious-alias",
   "metadata": {},
   "outputs": [],
   "source": [
    "newsapi = NewsApiClient(api_key=apikey)"
   ]
  },
  {
   "cell_type": "code",
   "execution_count": 125,
   "id": "diverse-compensation",
   "metadata": {},
   "outputs": [
    {
     "name": "stdout",
     "output_type": "stream",
     "text": [
      "241\n"
     ]
    }
   ],
   "source": [
    "domains=\"\"\"\n",
    "bloomberg.com,reuters.com,thetimes.co.uk,stanforddaily.com,hongkongfp.com,theguardian.com,wsj.com,cnbc.com,theeconomist.com,nytimes.com,politicshome.com,foreignpolicy.com,asia.nikkei.com,ft.com,bbc.co.uk,spectator.co.uk,washingtonpost.com/\n",
    "\"\"\"\n",
    "print(len(domains))"
   ]
  },
  {
   "cell_type": "code",
   "execution_count": 129,
   "id": "appropriate-polish",
   "metadata": {},
   "outputs": [],
   "source": [
    "all_articles = newsapi.get_everything(qintitle='Hong Kong',\n",
    "                                      domains=domains,\n",
    "                                      from_param='2021-05-07',\n",
    "                                      to='2021-05-09',\n",
    "                                      language='en',\n",
    "                                      sort_by='relevancy')\n",
    "#domains='bbc.co.uk,independent.co.uk,scmp.com',"
   ]
  },
  {
   "cell_type": "code",
   "execution_count": 130,
   "id": "electric-closing",
   "metadata": {},
   "outputs": [
    {
     "data": {
      "text/plain": [
       "dict_items([('status', 'ok'), ('totalResults', 4), ('articles', [{'source': {'id': 'reuters', 'name': 'Reuters'}, 'author': 'Reuters', 'title': 'Hong Kong shortens coronavirus quarantine for vaccinated residents - Reuters', 'description': 'Hong Kong authorities said on Friday residents who have been fully vaccinated can spend a shorter time in quarantine if they have been exposed to a COVID-19 patient, after thousands of people were sent to tiny quarantine quarters for up to 21 days.', 'url': 'https://www.reuters.com/world/asia-pacific/hong-kong-shortens-coronavirus-quarantine-vaccinated-residents-2021-05-07/', 'urlToImage': None, 'publishedAt': '2021-05-07T08:32:00Z', 'content': 'Hong Kong authorities said on Friday residents who have been fully vaccinated can spend a shorter time in quarantine if they have been exposed to a COVID-19 patient, after thousands of people were se… [+2394 chars]'}, {'source': {'id': 'bloomberg', 'name': 'Bloomberg'}, 'author': 'Felix Tam, Alfred Liu', 'title': 'Hong Kong to Shorten Quarantine for Fully Vaccinated Travelers: SCMP', 'description': 'Hong Kong will shorten quarantine periods for fully vaccinated inbound travelers and residents who are close contacts of people infected with Covid-19, the South China Morning Post reported, easing one of the world’s strictest policies amid efforts to encoura…', 'url': 'https://www.bloomberg.com/news/articles/2021-05-07/h-k-to-shorten-quarantine-for-fully-vaccinated-travelers-scmp', 'urlToImage': 'https://assets.bwbx.io/images/users/iqjWHBFdfxIU/iHz0tN_5veW4/v1/1200x800.jpg', 'publishedAt': '2021-05-07T03:25:24Z', 'content': 'Hong Kong will shorten quarantine periods for fully vaccinated inbound travelers and residents who are close contacts of people infected with Covid-19, the South China Morning Post \\r\\nreported, easing… [+1916 chars]'}, {'source': {'id': 'bloomberg', 'name': 'Bloomberg'}, 'author': 'Richard Frost', 'title': 'Hong Kong Residents Revolt Against Covid-19 Quarantine Camp', 'description': 'It’s becoming a growing fear in Hong Kong: being sent to a spartan quarantine camp for as many as three weeks if a Covid-19 case is found in your apartment block. Now some residents are rebelling against the order.', 'url': 'https://www.bloomberg.com/news/articles/2021-05-07/hong-kong-residents-revolt-against-covid-19-quarantine-camp', 'urlToImage': 'https://assets.bwbx.io/images/users/iqjWHBFdfxIU/iAX5doate7Wg/v1/1200x800.jpg', 'publishedAt': '2021-05-07T02:41:48Z', 'content': 'Its becoming a growing fear in Hong Kong: being sent to a spartan quarantine camp for as many as three weeks if a Covid-19 case is found in your apartment block. Now some residents are rebelling agai… [+2407 chars]'}, {'source': {'id': 'reuters', 'name': 'Reuters'}, 'author': 'Reuters Staff', 'title': 'Hong Kong shortens coronavirus quarantine for vaccinated residents', 'description': 'Hong Kong authorities said on Friday residents who have been fully vaccinated can spend a shorter time in quarantine if they have been exposed to a COVID-19 patient, after thousands of people were sent to tiny quarantine quarters for up to 21 days.', 'url': 'https://www.reuters.com/article/us-health-coronavirus-hongkong-idUSKBN2CO0NR', 'urlToImage': 'https://static.reuters.com/resources/r/?m=02&d=20210507&t=2&i=1561258612&r=LYNXMPEH460CS&w=800', 'publishedAt': '2021-05-07T08:58:58Z', 'content': 'By Reuters Staff\\r\\nHONG KONG (Reuters) - Hong Kong authorities said on Friday residents who have been fully vaccinated can spend a shorter time in quarantine if they have been exposed to a COVID-19 pa… [+2554 chars]'}])])"
      ]
     },
     "execution_count": 130,
     "metadata": {},
     "output_type": "execute_result"
    }
   ],
   "source": [
    "all_articles.items()"
   ]
  },
  {
   "cell_type": "code",
   "execution_count": 128,
   "id": "judicial-transcript",
   "metadata": {},
   "outputs": [
    {
     "ename": "AttributeError",
     "evalue": "'dict' object has no attribute 'statu'",
     "output_type": "error",
     "traceback": [
      "\u001b[0;31m-----------------------------------------------------------------\u001b[0m",
      "\u001b[0;31mAttributeError\u001b[0m                  Traceback (most recent call last)",
      "\u001b[0;32m<ipython-input-128-216003db6323>\u001b[0m in \u001b[0;36m<module>\u001b[0;34m\u001b[0m\n\u001b[0;32m----> 1\u001b[0;31m \u001b[0ma\u001b[0m\u001b[0;34m.\u001b[0m\u001b[0mstatu\u001b[0m\u001b[0;34m\u001b[0m\u001b[0;34m\u001b[0m\u001b[0m\n\u001b[0m",
      "\u001b[0;31mAttributeError\u001b[0m: 'dict' object has no attribute 'statu'"
     ]
    }
   ],
   "source": [
    "a.statu"
   ]
  },
  {
   "cell_type": "code",
   "execution_count": null,
   "id": "mediterranean-exercise",
   "metadata": {},
   "outputs": [],
   "source": []
  }
 ],
 "metadata": {
  "kernelspec": {
   "display_name": "Python 3",
   "language": "python",
   "name": "python3"
  },
  "language_info": {
   "codemirror_mode": {
    "name": "ipython",
    "version": 3
   },
   "file_extension": ".py",
   "mimetype": "text/x-python",
   "name": "python",
   "nbconvert_exporter": "python",
   "pygments_lexer": "ipython3",
   "version": "3.7.3"
  }
 },
 "nbformat": 4,
 "nbformat_minor": 5
}
