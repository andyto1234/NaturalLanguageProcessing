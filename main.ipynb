{
 "cells": [
  {
   "cell_type": "code",
   "execution_count": 8,
   "id": "decent-daniel",
   "metadata": {},
   "outputs": [
    {
     "name": "stdout",
     "output_type": "stream",
     "text": [
      "{'<OOV>': 1, 'my': 2, 'love': 3, 'dog': 4, 'i': 5, 'you': 6, 'cat': 7, 'do': 8, 'think': 9, 'is': 10, 'amazing': 11}\n"
     ]
    }
   ],
   "source": [
    "from tensorflow.keras.preprocessing.text import Tokenizer\n",
    "sentences = [\n",
    "    'i love my dog',\n",
    "    'I, love my cat',\n",
    "    'You love my dog!',\n",
    "    'Do you think my dog is amazing?'\n",
    "]\n",
    "\n",
    "tokenizer = Tokenizer(num_words = 100, oov_token=\"<OOV>\")\n",
    "tokenizer.fit_on_texts(sentences)\n",
    "word_index = tokenizer.word_index\n",
    "print(word_index)"
   ]
  },
  {
   "cell_type": "code",
   "execution_count": 9,
   "id": "flying-grounds",
   "metadata": {},
   "outputs": [
    {
     "name": "stdout",
     "output_type": "stream",
     "text": [
      "[[5, 3, 2, 4], [5, 3, 2, 7], [6, 3, 2, 4], [8, 6, 9, 2, 4, 10, 11]]\n"
     ]
    }
   ],
   "source": [
    "sequence = tokenizer.texts_to_sequences(sentences)\n",
    "print(sequence)"
   ]
  },
  {
   "cell_type": "code",
   "execution_count": 10,
   "id": "fancy-halifax",
   "metadata": {},
   "outputs": [],
   "source": [
    "import textstat"
   ]
  },
  {
   "cell_type": "code",
   "execution_count": 40,
   "id": "bridal-happening",
   "metadata": {},
   "outputs": [
    {
     "data": {
      "text/plain": [
       "41.63"
      ]
     },
     "execution_count": 40,
     "metadata": {},
     "output_type": "execute_result"
    }
   ],
   "source": [
    "\n",
    "test_data = \"\"\"NICOLA STURGEON is poised for five more years as the first minister of Scotland. By the evening of May 8th—two days after polling—her Scottish National Party was declared the biggest party in the Edinburgh parliament, falling just one seat short of a majority. Tactical voting by anti-independence voters, switching their ballots between Scotland’s Conservative and Labour parties, helped to thwart her. Still, it is a solid victory for the SNP, which has been in power under Ms Sturgeon and her predecessor, Alex Salmond, since 2007.Nationalists had hoped the election would be the first step towards the speedy dissolution of the United Kingdom. The SNP promised in its manifesto a second referendum on Scottish independence before the end of 2023. But a long and gruelling stalemate is more likely.Ms Sturgeon insists that the election result is a mandate for a referendum. The combined votes of the SNP and the Scottish Green Party, which also backs independence, are sufficient to pass a referendum law. The Scottish Conservatives declared that by failing to secure a majority on its own the SNP had failed to clear the bar for a referendum. Polls suggest only around a third of Scots agree with Ms Sturgeon, and many are undecided.Yet whether the Scottish Parliament, whatever its composition, has a political or legal right to organise a referendum is a matter of dispute. The Scotland Act, which underpins devolution, stipulates that the 314-year-old union of England and Scotland is the exclusive preserve of Westminster. The British government says that precludes a referendum without its authority—which David Cameron, then prime minister, granted for a vote in 2014, when Scots plumped by a margin of more than ten points to stay in the union. Ms Sturgeon hopes Boris Johnson will do the same, in order to put a second referendum beyond legal doubt. A refusal, she says, would be a defiance of the will of the Scottish people and in itself an argument for independence.But Mr Johnson has made it clear that he will refuse. Before the election results were known he told the Daily Telegraph that a referendum would be “irresponsible and reckless” while the economy and public services are recovering from covid-19. Mr Johnson has little incentive to authorise a poll. He certainly faces no pressure to hold one from within his own ranks (still officially the Conservative and Unionist Party) or from English voters.Mr Johnson has previously suggested that no referendum should take place for decades, but has recently adopted a softer, “not now”, approach, which seeks to deflate rather than confront separatism. On May 8th he invited Ms Sturgeon and Mark Drakeford, the re-elected first minister of Wales, to approach the “difficult journey” of recovery in a “spirit of unity and co-operation”. At the same time, the British government has little appetite for granting Scotland more powers; instead, Mr Johnson plans to relocate more civil servants there and to allocate more funding for Scottish infrastructure directly from London.Ms Sturgeon is opposed to “illegal, wildcat” referendums, such as that held in Catalonia in October 2017. A poll that was unrecognised by Britain and the EU, which an independent Scotland would hope to join, could be a dead-end for the nationalist cause. It would risk alienating undecided Scots, whom Ms Sturgeon has spent years trying to win over. She will, however, seek to jolt Mr Johnson’s hand, and test the limits of the Scottish Parliament’s powers, by daring the British government to block a referendum law in the Supreme Court in London. Any challenge would probably revolve around the question of whether the Scottish Parliament may legislate for an advisory referendum that did not automatically trigger independence. (Britain’s Brexit referendum of 2016 was in principle advisory. It had no automatic legal effects, even if its political impact was all too plain.)The Supreme Court has routinely heard cases about the remits of the devolved parliaments since they were founded two decades ago, often on relatively technical questions such as tobacco sales and insurance rules. But it is increasingly serving as a forum for confrontation between Ms Sturgeon and the British government. In April the British government said it would ask the court to review legislation passed in Edinburgh that would entrench in Scottish law the UN convention on children’s rights and a European charter on the rights of local government. The British government described the challenge as a purely legal question; Ms Sturgeon called it “morally repugnant”. Even if the nationalists lose, cases can provide them with handy propaganda: they can claim that their parliament is impotent. A challenge over a referendum bill will thrust judges into much more uncomfortable political terrain.Since no referendum is likely soon, the question is whether during the stalemate support for separation solidifies or peters away. Eve Hepburn, co-editor of “Scotland’s New Choice”, a new study on independence, argues that if the British government takes an “aggressive or dismissive” approach, reminiscent of Spain’s rejection of Catalan separatism, it will risk fuelling support for it.But Mr Johnson’s “not now” strategy has some hope of working. Polls suggest roughly half of Scots favour independence in principle, but only 30% want a referendum within two years as Ms Sturgeon proposes. The Daily Record, a left-wing tabloid, in an editorial on polling day, offered a typical view, arguing that a referendum should take place if the SNP triumphed, but only “at some point towards the end” of the parliament’s five-year term. Even the SNP’s campaign emphasised Ms Sturgeon’s stable leadership in the pandemic and an expansive welfare programme, more than the promise of a referendum. Scotland’s debate often echoes St Augustine: Lord make me independent, but not yet.Mr Johnson has one overwhelming reason to hold firm against a referendum until after the next general election, expected in 2023 or 2024. In elections in 2015 and 2019, his party told voters in England, with some success, that the alternative to a Conservative government in Westminster was an unstable coalition between a weak English Labour Party and a rickety SNP. His party has repeatedly described Sir Keir Starmer, the Labour leader, as too soft on separatism to halt a referendum. The SNP’s enduring performance is in the long harmful for the union, but pretty helpful to the Tories: just weak enough to resist, but strong enough to claim the union is in peril with any other prime minister.\"\"\"\n",
    "\n",
    "textstat.flesch_reading_ease(test_data)\n"
   ]
  },
  {
   "cell_type": "code",
   "execution_count": 41,
   "id": "loose-ready",
   "metadata": {},
   "outputs": [
    {
     "data": {
      "text/plain": [
       "17.9"
      ]
     },
     "execution_count": 41,
     "metadata": {},
     "output_type": "execute_result"
    }
   ],
   "source": [
    "textstat.automated_readability_index(test_data)"
   ]
  },
  {
   "cell_type": "code",
   "execution_count": 50,
   "id": "closed-fetish",
   "metadata": {},
   "outputs": [],
   "source": [
    "josh_fight = \"\"\"Hundreds of people have gathered in a US park, armed with pool noodles, to take part in a friendly battle over the right to use the name Josh.Last April, Arizona student Josh Swain, 22, jokingly messaged dozens of people who shared his name, and challenged them to a fight.It quickly went viral online.A year later, dozens of people called Josh arrived in Lincoln, Nebraska, to battle for the popular name.The event began with 'an epic contest of rock, paper, scissors' between organiser Josh Swain and another Josh Swain from Omaha, said Yousef Nasser, a reporter with local broadcaster KLKN, who filmed the battle. The Arizona Josh won the contest.'The subsequent pool noodle fight was open to anyone with the first name Josh. Dozens of Joshes - some wearing Spider-Man costumes and others in Jedi robes - tried to hit one another with the noodles, as a large crowd of cheering supporters looked on.In the end, four-year-old Josh Vinson Jr, nicknamed Little Josh, was crowned the winner. He received a Burger King crown, a champion's belt and a small trophy.The event also sparked a charity fundraising drive, which raised over $8000 (£5,800) for a local children's hospital, Mr Nasser added.The idea for the event began in April 2020 when Mr Swain, in a spell of pandemic boredom, started a group message with as many people he could find on Facebook who shared his first and last name. The college student challenged the doppelgangers to a duel for the right to be known as Josh Swain, on 24 April 2021.Mr Swain said he was surprised at how big the event turned out.\"\"\"\n",
    "hongkong = \"\"\"\n",
    "\n",
    "Jimmy Lai\n",
    "\n",
    "April 16 was a dark day for Hong Kong — a city that has seen many dark days in recent years, and whose days are getting darker. A court handed down sentences for nine advocates of democracy. What were they sentenced for? Well, advocating democracy.\n",
    "\n",
    "The U.S. secretary of state, Antony J. Blinken, issued a statement condemning the sentencing. He said that “Beijing and Hong Kong authorities are targeting Hong Kongers for doing nothing more than exercising protected rights and fundamental freedoms, including freedom of peaceful assembly and freedom of speech.”\n",
    "\n",
    "Obviously, the Chinese government fears democracy. Eight of the nine people just sentenced have, at one time or another, been democratically elected to Hong Kong’s legislature. And the ninth — Jimmy Lai, about whom more in a moment — is an ardent and brave supporter of democracy.\n",
    "\n",
    "Martin Lee, one of the nine, has long been known as “the father of democracy” in Hong Kong. Other democrats, worldwide, have been in awe of him since the 1980s. Lee founded the first democratic party in the city, the United Democrats of Hong Kong. Now 82, he was arrested last year for taking part in a protest. He made a poignant statement: “Over the months and years, I’ve felt bad to see so many outstanding youngsters being arrested and prosecuted, but I was not charged. Now I’ve finally become a defendant. I feel proud that I have a chance to walk this path of democracy together with them.”\n",
    "\n",
    "On Friday, the court sentenced Lee to eleven months, suspended. Other senior statesmen had their sentences suspended too. But Lee Cheuk-yan, 64, is one of the defendants who did not receive such a sentence. He is to spend a year and a half in prison. One of the things he is known for is organizing an annual vigil to commemorate the Tiananmen Square massacre — an event that the authorities wish to airbrush out.\n",
    "\n",
    "As we have seen, “mainland justice is being imported into Hong Kong.” That’s the way Ellen Bork put it in a podcast with National Review’s Jay Nordlinger on Friday. With other American advocates of democracy, she has formed the Committee for Freedom in Hong Kong.\n",
    "\n",
    "Jimmy Lai is 72. He is the entrepreneur who started out dirt-poor and rose to the heights of business. On his journey, he discovered Friedrich Hayek and Milton Friedman, becoming a staunch classical liberal. (Indeed, he has a bust of Hayek in the lobby of his media-group headquarters.) Lai is probably the most famous resident of Hong Kong. If you can hound and imprison him, you can hound and imprison anybody.\n",
    "\n",
    "The court sentenced Lai to 14 months in prison — yet he faces more charges under the new and sinister “national security” law. He could be sentenced to life in prison.\n",
    "\n",
    "Another member of that Committee for Freedom in Hong Kong is Perry Link, the China scholar who has long lent a helping hand to democrats (and has been banned from China for his troubles). He, too, participated in the aforementioned podcast, with Ellen Bork. He pointed out that Jimmy Lai had been leading a very comfortable life and could easily have left Hong Kong and put his feet up elsewhere. But he decided to stay and take a stand, and has now been deprived of his freedom.\n",
    "\n",
    "A report in the Washington Post included an apt phrase: The Chinese government is turning Hong Kong into a city “that resembles any other in China.” The government had promised “one country, two systems,” for 50 years — i.e., until 2047. But the government would not tolerate a distinct and democratic Hong Kong for even 25. Beijing is increasingly intolerant of Taiwan, too. Both of those places — Hong Kong and Taiwan — have been democratic outposts of China, setting a “bad” example for the billion Chinese on the mainland.\n",
    "\n",
    "Xi Jinping, the current Chinese No. 1, has a clear goal — a legacy project, if you will: to “unify” China, which is to say, to bring Hong Kong and Taiwan — and Uyghurs and others — to heel.\n",
    "\n",
    "What can the United States and other democratic governments do? People speak of “standing with.” Secretary Blinken, in his statement, said, “We will continue to stand with Hong Kongers as they respond to Beijing’s assault on [promised] freedoms and autonomy, and we will not stop calling for the release of those detained or imprisoned for exercising their fundamental freedoms.”\n",
    "\n",
    "“Calling for” is important. Moral support is a great and necessary part of “standing with.” The United States did this, to varying degrees, throughout the Cold War. But what else? A range of things. The United States and the rest of the Free World must confront China over its conduct in general — Hong Kong, the Uyghurs, Taiwan, etc.\n",
    "\n",
    "Going to the Beijing Olympics in 2022 should be out of the question. Business as usual — commercial relations, diplomatic niceties — should be reconsidered. We should continue to impose sanctions on individual human-rights abusers: asset freezes, visa denials. People in China should know that we are on their side, not the side of their rulers or persecutors. U.S. officials often vexed the Kremlin with human-rights complaints — with human-rights “spotlighting.” The same can be done now.\n",
    "\n",
    "“Hong Kong is not just Hong Kong on the world stage,” said Perry Link on Friday. “This is a frontier of a larger confrontation” — between democracy and dictatorship, freedom and unfreedom. “This thriving, energetic, free city is being taken over by an autocratic government and squelched. That’s a big fact wherever in the world it happens.”\n",
    "\n",
    "There were moving scenes in that courtroom, as Hong Kong democracy leaders were sentenced to prison. “Stay strong!” members of the audience cried out, as the prisoners were being led away. That is what the rest of us should do too, in the various ways we can: stay strong.\n",
    "\"\"\"\n"
   ]
  },
  {
   "cell_type": "code",
   "execution_count": 51,
   "id": "purple-jesus",
   "metadata": {},
   "outputs": [
    {
     "data": {
      "text/plain": [
       "63.93"
      ]
     },
     "execution_count": 51,
     "metadata": {},
     "output_type": "execute_result"
    }
   ],
   "source": [
    "textstat.flesch_reading_ease(hongkong)\n"
   ]
  },
  {
   "cell_type": "code",
   "execution_count": 44,
   "id": "straight-panel",
   "metadata": {},
   "outputs": [
    {
     "data": {
      "text/plain": [
       "28.2"
      ]
     },
     "execution_count": 44,
     "metadata": {},
     "output_type": "execute_result"
    }
   ],
   "source": [
    "textstat.automated_readability_index(josh_fight)"
   ]
  },
  {
   "cell_type": "code",
   "execution_count": 38,
   "id": "commercial-hungary",
   "metadata": {},
   "outputs": [],
   "source": [
    "tokenizer = Tokenizer(num_words = 1000, oov_token=\"<OOV>\")"
   ]
  },
  {
   "cell_type": "code",
   "execution_count": 52,
   "id": "consecutive-johnston",
   "metadata": {},
   "outputs": [
    {
     "name": "stdout",
     "output_type": "stream",
     "text": [
      "{'<OOV>': 1, 'e': 2, 't': 3, 'n': 4, 'o': 5, 'a': 6, 'i': 7, 's': 8, 'r': 9, 'l': 10, 'h': 11, 'd': 12, 'c': 13, 'u': 14, 'm': 15, 'p': 16, 'f': 17, 'g': 18, 'w': 19, 'y': 20, 'v': 21, 'b': 22, 'k': 23, 'j': 24, '’': 25, '2': 26, '0': 27, '“': 28, '”': 29, '1': 30, 'x': 31, '3': 32, 'q': 33, '—': 34, '4': 35, '8': 36, '7': 37, '9': 38, '6': 39, '5': 40}\n"
     ]
    }
   ],
   "source": [
    "tokenizer.fit_on_texts(test_data)\n",
    "word_index = tokenizer.word_index\n",
    "print(word_index)"
   ]
  },
  {
   "cell_type": "code",
   "execution_count": 16,
   "id": "elegant-slovenia",
   "metadata": {},
   "outputs": [],
   "source": [
    "import os\n",
    "from dotenv import load_dotenv\n",
    "from newsapi import NewsApiClient\n",
    "load_dotenv()\n",
    "apikey = os.getenv('NEWSAPIKEY')"
   ]
  },
  {
   "cell_type": "code",
   "execution_count": 17,
   "id": "chicken-words",
   "metadata": {},
   "outputs": [],
   "source": [
    "newsapi = NewsApiClient(api_key=apikey)"
   ]
  },
  {
   "cell_type": "code",
   "execution_count": 38,
   "id": "productive-casino",
   "metadata": {},
   "outputs": [],
   "source": [
    "all_articles = newsapi.get_everything(q='hong kong',\n",
    "                                      from_param='2021-04-31',\n",
    "                                      domains='reuters.com'\n",
    "                                      to='2021-05-09',\n",
    "                                      language='en',\n",
    "                                      sort_by='relevancy',\n",
    "                                      page=2)\n",
    "#domains='bbc.co.uk,independent.co.uk,scmp.com',\n"
   ]
  },
  {
   "cell_type": "code",
   "execution_count": 39,
   "id": "homeless-white",
   "metadata": {},
   "outputs": [
    {
     "data": {
      "text/plain": [
       "{'status': 'ok',\n",
       " 'totalResults': 12284,\n",
       " 'articles': [{'source': {'id': 'reuters', 'name': 'Reuters'},\n",
       "   'author': 'Reuters Staff',\n",
       "   'title': 'Capital Calls: Hong Kong bourse sweats small stuff - Reuters',\n",
       "   'description': '(The author is a Reuters Breakingviews columnist. The opinions expressed are their own. Updates to add link.)',\n",
       "   'url': 'https://www.reuters.com/article/us-global-finance-breakingviews-idUSKBN2CN094',\n",
       "   'urlToImage': 'https://static.reuters.com/resources/r/?m=02&d=20210506&t=2&i=1561087000&r=LYNXMPEH4503K&w=800',\n",
       "   'publishedAt': '2021-05-06T03:39:00Z',\n",
       "   'content': 'By Reuters Staff\\r\\n(The author is a Reuters Breakingviews columnist. The opinions expressed are their own. Updates to add link.)\\r\\nJan Craps (L), chief executive officer of Budweiser Brewing Company AP… [+2126 chars]'},\n",
       "  {'source': {'id': 'reuters', 'name': 'Reuters'},\n",
       "   'author': 'Reuters',\n",
       "   'title': 'Hong Kong shortens coronavirus quarantine for vaccinated residents - Reuters',\n",
       "   'description': 'Hong Kong authorities said on Friday residents who have been fully vaccinated can spend a shorter time in quarantine if they have been exposed to a COVID-19 patient, after thousands of people were sent to tiny quarantine quarters for up to 21 days.',\n",
       "   'url': 'https://www.reuters.com/world/asia-pacific/hong-kong-shortens-coronavirus-quarantine-vaccinated-residents-2021-05-07/',\n",
       "   'urlToImage': None,\n",
       "   'publishedAt': '2021-05-07T08:32:00Z',\n",
       "   'content': 'Hong Kong authorities said on Friday residents who have been fully vaccinated can spend a shorter time in quarantine if they have been exposed to a COVID-19 patient, after thousands of people were se… [+2394 chars]'},\n",
       "  {'source': {'id': 'reuters', 'name': 'Reuters'},\n",
       "   'author': 'Reuters Staff',\n",
       "   'title': \"Oasis Management says CVC's offer for Toshiba is too low - Reuters\",\n",
       "   'description': 'Hong Kong-based Oasis Management said on Tuesday CVC Capital\\'s reported offer of 5,000 yen a share for Toshiba Corp was \"far below fair value\".',\n",
       "   'url': 'https://www.reuters.com/article/us-toshiba-m-a-cvc-capital-oasis-idUSKBN2C008M',\n",
       "   'urlToImage': 'https://static.reuters.com/resources/r/?m=02&d=20210413&t=2&i=1558219311&r=LYNXMPEH3C043&w=800',\n",
       "   'publishedAt': '2021-04-13T03:08:00Z',\n",
       "   'content': \"By Reuters Staff\\r\\nFILE PHOTO: The logo of Toshiba Corp. is seen at the company's facility in Kawasaki, Japan February 13, 2017. REUTERS/Issei Kato\\r\\nTOKYO (Reuters) - Hong Kong-based Oasis Management … [+366 chars]\"},\n",
       "  {'source': {'id': 'reuters', 'name': 'Reuters'},\n",
       "   'author': 'Reuters',\n",
       "   'title': 'US condemns sentencing of tycoon Jimmy Lai, other Hong Kong activists - Reuters',\n",
       "   'description': 'The United States on Friday condemned the sentencing of Hong Kong media tycoon Jimmy Lai and other pro-democracy activists on what it called \"politically motivated charges.\"',\n",
       "   'url': 'https://www.reuters.com/world/china/us-condemns-sentencing-tycoon-jimmy-lai-other-hong-kong-activists-2021-04-16/',\n",
       "   'urlToImage': None,\n",
       "   'publishedAt': '2021-04-16T22:26:00Z',\n",
       "   'content': 'The United States on Friday condemned the sentencing of Hong Kong media tycoon Jimmy Lai and other pro-democracy activists on what it called \"politically motivated charges.\"\\r\\n\"Beijing and Hong Kong a… [+557 chars]'},\n",
       "  {'source': {'id': 'reuters', 'name': 'Reuters'},\n",
       "   'author': 'Reuters Staff',\n",
       "   'title': 'Special Report: Hong Kong activists retreat as China-style justice comes to their city - Reuters',\n",
       "   'description': 'On March 23, a Hong Kong High Court judge denied former Democratic Party lawmaker Andrew Wan’s bail appeal and sent him back to Lai Chi Kok prison.',\n",
       "   'url': 'https://www.reuters.com/article/us-hongkong-security-bail-special-report-idUSKBN2C80ZQ',\n",
       "   'urlToImage': 'https://static.reuters.com/resources/r/?m=02&d=20210421&t=2&i=1559336450&r=LYNXMPEH3K0JH&w=800',\n",
       "   'publishedAt': '2021-04-21T08:09:00Z',\n",
       "   'content': '(Reuters) - On March 23, a Hong Kong High Court judge denied former Democratic Party lawmaker Andrew Wans bail appeal and sent him back to Lai Chi Kok prison.\\r\\nPan-democratic legislator Andrew Wan is… [+19529 chars]'},\n",
       "  {'source': {'id': 'reuters', 'name': 'Reuters'},\n",
       "   'author': 'Sophie Yu, Scott Murdoch',\n",
       "   'title': 'Trip.com Group set to open up 4.85% in Hong Kong debut - Reuters',\n",
       "   'description': 'Trip.com Group shares opened at HK$281 ($36.15) apiece as they debuted in Hong Kong on Monday, up 4.85% from their secondary listing offer price.',\n",
       "   'url': 'https://www.reuters.com/article/us-trip-com-listing-idUSKBN2C603P',\n",
       "   'urlToImage': 'https://static.reuters.com/resources/r/?m=02&d=20210419&t=2&i=1558999719&r=LYNXMPEH3I01Q&w=800',\n",
       "   'publishedAt': '2021-04-19T01:49:00Z',\n",
       "   'content': 'HONG KONG (Reuters) -Trip.com Group shares opened at HK$281 ($36.15) apiece as they debuted in Hong Kong on Monday, up 4.85% from their secondary listing offer price.\\r\\nFILE PHOTO: Employees work at a… [+1511 chars]'},\n",
       "  {'source': {'id': 'reuters', 'name': 'Reuters'},\n",
       "   'author': 'Reuters Staff',\n",
       "   'title': 'Singapore, Hong Kong call off air travel bubble announcement - Bloomberg News - Reuters',\n",
       "   'description': \"Singapore and Hong Kong on Thursday called off an announcement for an air travel bubble between Asia's two major financial hubs, Bloomberg News reported, citing sources.\",\n",
       "   'url': 'https://www.reuters.com/article/us-health-coronavirus-singapore-hongkong-idUSKBN2C908C',\n",
       "   'urlToImage': 'https://static.reuters.com/resources/r/?m=02&d=20210422&t=2&i=1559460678&r=LYNXMPEH3L02Q&w=800',\n",
       "   'publishedAt': '2021-04-22T02:57:00Z',\n",
       "   'content': \"By Reuters Staff\\r\\nFILE PHOTO: A view of an empty departure hall at Singapore's Changi Airport, Singapore January 18, 2021. REUTERS/Edgar Su\\r\\n(Reuters) - Singapore and Hong Kong on Thursday called off… [+232 chars]\"},\n",
       "  {'source': {'id': 'reuters', 'name': 'Reuters'},\n",
       "   'author': 'Reuters',\n",
       "   'title': 'SPECIAL REPORT Hong Kong activists retreat as China-style justice comes to their city - Reuters',\n",
       "   'description': 'On March 23, a Hong Kong High Court judge denied former Democratic Party lawmaker Andrew Wan’s bail appeal and sent him back to Lai Chi Kok prison.',\n",
       "   'url': 'https://www.reuters.com/world/asia-pacific/special-report-hong-kong-activists-retreat-china-style-justice-comes-their-city-2021-04-21/',\n",
       "   'urlToImage': 'https://www.reuters.com/resizer/QauBXYIOWUdSyiOMVom3RvQ1r40=/1200x628/smart/cloudfront-us-east-2.images.arcpublishing.com/reuters/M2Q77VQHFNK2TKOL45JCWFPD34.jpg',\n",
       "   'publishedAt': '2021-04-21T08:09:00Z',\n",
       "   'content': 'On March 23, a Hong Kong High Court judge denied former Democratic Party lawmaker Andrew Wans bail appeal and sent him back to Lai Chi Kok prison.\\r\\nKeep going! Wan shouted as he was led away by guard… [+19385 chars]'},\n",
       "  {'source': {'id': 'reuters', 'name': 'Reuters'},\n",
       "   'author': 'Reuters Staff',\n",
       "   'title': 'HK stocks end lower as consumer discretionary, tech shares weigh - Reuters',\n",
       "   'description': 'Hong Kong shares closed lower on Wednesday, as consumer discretionary and technology stocks retreated ahead of the reopening of China markets, outweighing gains from banks and energy sectors.',\n",
       "   'url': 'https://www.reuters.com/article/china-stocks-hongkong-close-idUSAZN18YK00',\n",
       "   'urlToImage': 'https://s1.reutersmedia.net/resources_v2/images/rcom-default.png?w=800',\n",
       "   'publishedAt': '2021-05-05T08:44:00Z',\n",
       "   'content': 'By Reuters Staff\\r\\n* Hang Seng index eases 0.49%\\r\\n* China Enterprises index HSCE slips 0.41%\\r\\n* HSI financial sub-index climbs 0.35%; property up 0.23%\\r\\nHONG KONG, May 5 (Reuters) - Hong Kong shares c… [+1761 chars]'},\n",
       "  {'source': {'id': 'reuters', 'name': 'Reuters'},\n",
       "   'author': 'Rina Chandran',\n",
       "   'title': 'Hong Kong pauses plan to force COVID-19 vaccines on migrant maids - Reuters',\n",
       "   'description': 'Hong Kong authorities have rowed back on plans to make COVID-19 vaccines mandatory for foreign domestic workers, after human rights groups slammed the policy as being discriminatory.',\n",
       "   'url': 'https://www.reuters.com/article/healthcoronavirus-hongkong-idUSL8N2MQ27N',\n",
       "   'urlToImage': 'https://s1.reutersmedia.net/resources_v2/images/rcom-default.png?w=800',\n",
       "   'publishedAt': '2021-05-04T07:54:00Z',\n",
       "   'content': 'May 4 (Thomson Reuters Foundation) - Hong Kong authorities have rowed back on plans to make COVID-19 vaccines mandatory for foreign domestic workers, after human rights groups slammed the policy as b… [+3577 chars]'},\n",
       "  {'source': {'id': 'reuters', 'name': 'Reuters'},\n",
       "   'author': 'Reuters Staff',\n",
       "   'title': 'Energy leads Hong Kong stocks higher on pandemic recovery signs - Reuters',\n",
       "   'description': 'Hong Kong shares settled higher on Tuesday, with energy stocks leading the gains on signs of recovery from the coronavirus pandemic as major economies around the world reopen.',\n",
       "   'url': 'https://www.reuters.com/article/china-stocks-hongkong-close-idUSAZN18YJ00',\n",
       "   'urlToImage': 'https://s1.reutersmedia.net/resources_v2/images/rcom-default.png?w=800',\n",
       "   'publishedAt': '2021-05-04T08:41:00Z',\n",
       "   'content': 'By Reuters Staff\\r\\n* Hang Seng index ends up 0.7%\\r\\n* China Enterprises index HSCE gains 0.49%\\r\\n* HSI financial sub-index climbs 0.78%\\r\\n* Property sector up 0.5%\\r\\nHONG KONG, May 4 (Reuters) - Hong Kong… [+1752 chars]'},\n",
       "  {'source': {'id': None, 'name': 'New York Times'},\n",
       "   'author': 'The New York Times',\n",
       "   'title': 'Covid-19 Live Updates: Johnson & Johnson Vaccine Deliveries to Drop in U.S.',\n",
       "   'description': 'The slowdown, coming after millions of doses were ruined in a factory mix-up, is a setback for U.S. vaccination efforts. Here’s the latest on Covid-19.',\n",
       "   'url': 'https://www.nytimes.com/live/2021/04/09/world/covid-vaccine-coronavirus-cases',\n",
       "   'urlToImage': 'https://static01.nyt.com/images/2021/04/09/us/09virus-brief-johnson-lede-promo/merlin_186076011_2c0bd3bf-979a-4236-91e8-653c610aa35d-facebookJumbo.jpg',\n",
       "   'publishedAt': '2021-04-09T09:17:17Z',\n",
       "   'content': 'LiveUpdated\\xa0April 9, 2021, 5:05 a.m. ET\\r\\nApril 9, 2021, 5:05 a.m. ET\\r\\nThe slowdown, coming after millions of doses were ruined in a factory mix-up, is a setback for the fast-moving U.S. vaccination p… [+10816 chars]'},\n",
       "  {'source': {'id': None, 'name': 'Android Central'},\n",
       "   'author': 'Michael Allison',\n",
       "   'title': 'Vivo catches heat in Hong Kong over flaming phones',\n",
       "   'description': 'Exploding batteries are a known risk when it comes to transporting smartphones.\\n\\n\\n\\nWhat you need to know\\n\\n\\nVivo has been banned from Hong Kong Air Cargo over a fire incident.\\nImages and videos shared on social media appeared to show pallets containing Vivo ph…',\n",
       "   'url': 'https://www.androidcentral.com/vivo-catches-heat-hong-kong-over-flaming-phones',\n",
       "   'urlToImage': 'https://www.androidcentral.com/sites/androidcentral.com/files/styles/large/public/article_images/2020/01/vivo-nex-3-review-15.jpg',\n",
       "   'publishedAt': '2021-04-13T17:19:51Z',\n",
       "   'content': 'Vivo phones have been reportedly banned from a Hong Kong Air Cargo, a subsidiary of Hong Kong Airlines, following a fire at a Hong Kong airport this week as reported by Air Cargo World (via Android A… [+1370 chars]'},\n",
       "  {'source': {'id': None, 'name': 'Euronews'},\n",
       "   'author': None,\n",
       "   'title': 'Vaccinated Hong Kong residents ready to party till 2 a.m. curfew as bars reopen - Euronews',\n",
       "   'description': 'Vaccinated Hong Kong residents ready to party till 2 a.m. curfew as bars reopen\\xa0\\xa0Euronews',\n",
       "   'url': 'https://www.euronews.com/2021/04/29/us-health-coronavirus-hongkong-nightlife',\n",
       "   'urlToImage': 'https://static.euronews.com/articles/wires/725/71/7257152/1000x563_hykv5t.jpg',\n",
       "   'publishedAt': '2021-04-29T06:50:50Z',\n",
       "   'content': 'By Farah Master\\r\\nHONGKONG (Reuters) – In Hong Kong’s famed party zone Lan Kwai Fong, dormant bars and clubs are revving up to serve customers again, but only if they have had at least one vaccine sho… [+3320 chars]'},\n",
       "  {'source': {'id': 'reuters', 'name': 'Reuters'},\n",
       "   'author': 'Scott Murdoch',\n",
       "   'title': 'UPDATE 1-Cathay Pacific tests investor appetite for first U.S. dollar bond in 25 years - Reuters',\n",
       "   'description': \"Hong Kong's Cathay Pacific Airways Ltd is considering issuing its first U.S. dollar bond in nearly 25 years, according to a term sheet seen by Reuters.\",\n",
       "   'url': 'https://www.reuters.com/article/cathay-pacific-bonds-idUSL1N2MT080',\n",
       "   'urlToImage': 'https://s1.reutersmedia.net/resources_v2/images/rcom-default.png?w=800',\n",
       "   'publishedAt': '2021-05-06T05:13:00Z',\n",
       "   'content': '(Adds Cathay comment in fifth paragraph)\\r\\nHONG KONG, May 6 (Reuters) - Hong Kongs Cathay Pacific Airways Ltd is considering issuing its first U.S. dollar bond in nearly 25 years, according to a term … [+1610 chars]'},\n",
       "  {'source': {'id': 'reuters', 'name': 'Reuters'},\n",
       "   'author': 'Scott Murdoch',\n",
       "   'title': 'Cathay Pacific tests investor appetite for first U.S. dollar bond in 25 years - Reuters',\n",
       "   'description': \"Hong Kong's Cathay Pacific Airways Ltd is considering issuing its first U.S. dollar bond in nearly 25 years, according to a term sheet seen by Reuters.\",\n",
       "   'url': 'https://www.reuters.com/article/cathay-pacific-bonds-idUSL4N2MT0V3',\n",
       "   'urlToImage': 'https://s1.reutersmedia.net/resources_v2/images/rcom-default.png?w=800',\n",
       "   'publishedAt': '2021-05-06T04:13:00Z',\n",
       "   'content': 'HONG KONG, May 6 (Reuters) - Hong Kongs Cathay Pacific Airways Ltd is considering issuing its first U.S. dollar bond in nearly 25 years, according to a term sheet seen by Reuters.\\r\\nThe COVID-19 pande… [+1498 chars]'},\n",
       "  {'source': {'id': 'reuters', 'name': 'Reuters'},\n",
       "   'author': 'Reuters',\n",
       "   'title': 'Hong Kongers increase activity in weak London property market - Reuters',\n",
       "   'description': 'The number of London properties bought by Hong Kongers has more than doubled since the announcement of a new visa offering residents of the territory an opportunity to move to Britain, estate agent Benham & Reeves said on Wednesday.',\n",
       "   'url': 'https://www.reuters.com/world/china/hong-kongers-increase-activity-weak-london-property-market-2021-05-05/',\n",
       "   'urlToImage': None,\n",
       "   'publishedAt': '2021-05-05T11:34:00Z',\n",
       "   'content': 'The number of London properties bought by Hong Kongers has more than doubled since the announcement of a new visa offering residents of the territory an opportunity to move to Britain, estate agent B… [+1465 chars]'},\n",
       "  {'source': {'id': None, 'name': 'The Guardian'},\n",
       "   'author': 'Reuters Inc.',\n",
       "   'title': 'Hong Kong widens COVID-19 vaccine scheme to under 30s - The Guardian',\n",
       "   'description': \"HONG KONG (Reuters) -     Hong Kong authorities said on Thursday that the city's vaccine scheme would be widened to include those aged between 16 to 29 years old for the first time, as they aim to boost lackluster demand for inoculations in the Asian\",\n",
       "   'url': 'https://www.theguardian.pe.ca/news/world/hong-kong-widens-covid-19-vaccine-scheme-to-under-30s-576247/',\n",
       "   'urlToImage': 'https://www.theguardian.pe.ca/media/photologue/photos/cache/hong-kong-widens-covid-19-vaccine-scheme-to-under-30s_medium',\n",
       "   'publishedAt': '2021-04-15T11:49:53Z',\n",
       "   'content': \"HONG KONG (Reuters) - Hong Kong authorities said on Thursday that the city's vaccine scheme would be widened to include those aged between 16 to 29 years old for the first time, as they aim to boost … [+1720 chars]\"},\n",
       "  {'source': {'id': 'reuters', 'name': 'Reuters'},\n",
       "   'author': 'Reuters',\n",
       "   'title': 'Hong Kong bans flights from India, Pakistan and the Philippines for 2 weeks - Reuters',\n",
       "   'description': 'Hong Kong will suspend flights from India, Pakistan and the Philippines from April 20 for two weeks after the N501Y mutant COVID-19 strain was detected in the Asian financial hub for the first time, authorities said in a statement late on Sunday.',\n",
       "   'url': 'https://www.reuters.com/world/china/hong-kong-bans-flights-india-pakistan-philippines-2-weeks-2021-04-19/',\n",
       "   'urlToImage': 'https://www.reuters.com/resizer/DFQAYsKqaEEYut59SKvSG4pAogc=/1200x628/smart/cloudfront-us-east-2.images.arcpublishing.com/reuters/5LAPOCPWVVON3PVAUYS7AE6BVE.jpg',\n",
       "   'publishedAt': '2021-04-19T00:31:00Z',\n",
       "   'content': 'A woman, wearing a face mask following the coronavirus disease (COVID-19) outbreak, sorts luggage at Hong Kong International Airport in Hong Kong, China October 20, 2020. REUTERS/Lam Yik/File PhotoHo… [+1254 chars]'},\n",
       "  {'source': {'id': 'reuters', 'name': 'Reuters'},\n",
       "   'author': 'Scott Murdoch, Donny Kwok',\n",
       "   'title': 'Fintech firm Linklogis opens 9.9% higher in Hong Kong IPO debut - Reuters',\n",
       "   'description': 'Shares of Chinese fintech firm Linklogis Inc, which is backed by technology giant Tencent Holdings, opened 9.9% higher in their Hong Kong debut on Friday after the company raised $1.02 billion in its initial public offering.',\n",
       "   'url': 'https://www.reuters.com/article/us-linklogis-listing-idUSKBN2BW07X',\n",
       "   'urlToImage': 'https://s1.reutersmedia.net/resources_v2/images/rcom-default.png?w=800',\n",
       "   'publishedAt': '2021-04-09T03:04:00Z',\n",
       "   'content': 'HONG KONG (Reuters) - Shares of Chinese fintech firm Linklogis Inc, which is backed by technology giant Tencent Holdings, opened 9.9% higher in their Hong Kong debut on Friday after the company raise… [+1244 chars]'}]}"
      ]
     },
     "execution_count": 39,
     "metadata": {},
     "output_type": "execute_result"
    }
   ],
   "source": [
    "all_articles"
   ]
  },
  {
   "cell_type": "code",
   "execution_count": null,
   "id": "threaded-equity",
   "metadata": {},
   "outputs": [],
   "source": []
  }
 ],
 "metadata": {
  "kernelspec": {
   "display_name": "Python 3",
   "language": "python",
   "name": "python3"
  },
  "language_info": {
   "codemirror_mode": {
    "name": "ipython",
    "version": 3
   },
   "file_extension": ".py",
   "mimetype": "text/x-python",
   "name": "python",
   "nbconvert_exporter": "python",
   "pygments_lexer": "ipython3",
   "version": "3.7.3"
  }
 },
 "nbformat": 4,
 "nbformat_minor": 5
}
